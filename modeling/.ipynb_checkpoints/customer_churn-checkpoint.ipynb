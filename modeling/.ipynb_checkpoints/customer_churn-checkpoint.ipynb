{
 "cells": [
  {
   "cell_type": "markdown",
   "id": "36b3458a-4351-4847-a523-aaf452dee0ba",
   "metadata": {},
   "source": [
    "# Customer Churn Prediction\n",
    "## **Target**: Will a customer churn or reinstate their policy?"
   ]
  },
  {
   "cell_type": "code",
   "execution_count": 66,
   "id": "24739974-760b-4089-a807-46edd825411a",
   "metadata": {},
   "outputs": [],
   "source": [
    "import warnings\n",
    "warnings.filterwarnings('ignore')"
   ]
  },
  {
   "cell_type": "code",
   "execution_count": 1,
   "id": "35878016-845c-4a4f-8ae5-5b86558d3f3c",
   "metadata": {},
   "outputs": [],
   "source": [
    "# Generic Libraries\n",
    "import numpy as np\n",
    "import pandas as pd\n",
    "import seaborn as sns\n",
    "import matplotlib.pyplot as plt"
   ]
  },
  {
   "cell_type": "code",
   "execution_count": 2,
   "id": "9c3591d0-9048-4cd8-9797-86d923b5a7dc",
   "metadata": {},
   "outputs": [],
   "source": [
    "claims_data = '../data/claims.csv'\n",
    "premiums_data = '../data/premiums.csv'"
   ]
  },
  {
   "cell_type": "code",
   "execution_count": 3,
   "id": "52321453-ed17-4141-baa4-4497223aae99",
   "metadata": {},
   "outputs": [],
   "source": [
    "claims_df = pd.read_csv(claims_data)\n",
    "premiums_df = pd.read_csv(premiums_data)"
   ]
  },
  {
   "cell_type": "code",
   "execution_count": 4,
   "id": "5f370dac-9082-4dd1-a290-37109e89e0f4",
   "metadata": {},
   "outputs": [],
   "source": [
    "claims_df = claims_df[~claims_df['ClaimCause'].isin(['Claim Denied', 'Claim Withdrawn'])]"
   ]
  },
  {
   "cell_type": "code",
   "execution_count": 5,
   "id": "54522fc9-cb8d-41ba-a409-7c0f81011fd7",
   "metadata": {},
   "outputs": [],
   "source": [
    "claims_df = claims_df.dropna()\n",
    "\n",
    "claims_df['DateOfLoss'] = pd.to_datetime(claims_df['DateOfLoss'])\n",
    "claims_df['ClaimReceivedDate'] = pd.to_datetime(claims_df['ClaimReceivedDate'])\n",
    "claims_df['PolicyEffectiveDate'] = pd.to_datetime(claims_df['PolicyEffectiveDate'])\n",
    "\n",
    "claims_df = claims_df.astype({\n",
    "    'PolicyNumber': 'string',\n",
    "    'ClaimCause': 'string',\n",
    "    'County': 'string',\n",
    "    'State': 'string'\n",
    "})"
   ]
  },
  {
   "cell_type": "code",
   "execution_count": 6,
   "id": "e310a29e-1fc4-4546-8dc4-e657f2aef8c0",
   "metadata": {},
   "outputs": [],
   "source": [
    "premiums_df = premiums_df.dropna()\n",
    "\n",
    "premiums_df['PolicyEffectiveDate'] = pd.to_datetime(premiums_df['PolicyEffectiveDate'])\n",
    "premiums_df['PolicyExpirationDate'] = pd.to_datetime(premiums_df['PolicyExpirationDate'])\n",
    "\n",
    "premiums_df = premiums_df.astype({\n",
    "    'PolicyNumber': 'string',\n",
    "    'County': 'string',\n",
    "    'State': 'string'\n",
    "})"
   ]
  },
  {
   "cell_type": "code",
   "execution_count": 7,
   "id": "112e33c9-d2b6-414f-aba6-b106bb6282a1",
   "metadata": {},
   "outputs": [],
   "source": [
    "premiums_df = premiums_df.drop_duplicates()"
   ]
  },
  {
   "cell_type": "code",
   "execution_count": 8,
   "id": "703010c4-58c1-4753-bedf-103d8df371d6",
   "metadata": {},
   "outputs": [],
   "source": [
    "from datetime import datetime\n",
    "\n",
    "def impute_zero_for_year(\n",
    "    value : float\n",
    ") -> float:\n",
    "    current_year = datetime.now().year\n",
    "    if 1950.0 <= value <= current_year:\n",
    "        return value\n",
    "    else:\n",
    "        return 0.0"
   ]
  },
  {
   "cell_type": "code",
   "execution_count": 9,
   "id": "bc5e6eff-132f-42c7-9fc4-a64833edc4d7",
   "metadata": {},
   "outputs": [],
   "source": [
    "premiums_df['Equip Year'] = premiums_df['Equip Year'].apply(impute_zero_for_year)"
   ]
  },
  {
   "cell_type": "markdown",
   "id": "535a60f3-4207-467e-a5df-5cbe34e608f4",
   "metadata": {},
   "source": [
    "## **Potential Features**:\n",
    "1. First policy year (static)\n",
    "2. Sum of premiums in USD (dynamic)\n",
    "3. Sum of claims in USD (dynamic)\n",
    "4. Number of policies (dynamic)\n",
    "5. Number of claims (dynamic)\n",
    "6. State (mode; static)\n",
    "7. County (mode; static)\n",
    "8. Sum of deductibles (dynamic)\n",
    "9. Average equipment year (dynamic)\n",
    "10. Average location premium (dynamic)"
   ]
  },
  {
   "cell_type": "markdown",
   "id": "d73f9cf6-6e1b-4954-b32b-6f2951a7971b",
   "metadata": {},
   "source": [
    "## Step 1:\n",
    "1. For a given customer, find the time periods in which they have an active policy."
   ]
  },
  {
   "cell_type": "code",
   "execution_count": 141,
   "id": "bbce9d7a-9dbe-427f-bc2e-948b63dbb2fe",
   "metadata": {},
   "outputs": [],
   "source": [
    "date_list = []\n",
    "\n",
    "for index, row in premiums_df.loc[premiums_df['CustomerId'] == 1248].iterrows():\n",
    "    start_date = str(row['PolicyEffectiveDate'].date())\n",
    "    end_date = str(row['PolicyExpirationDate'].date())\n",
    "\n",
    "    date_range = pd.date_range(start_date, end_date).values.astype('datetime64[D]')\n",
    "    date_strings = np.datetime_as_string(date_range, unit = 'D').tolist()\n",
    "    \n",
    "    date_list += date_strings\n",
    "\n",
    "unique_active_dates = np.unique(date_list)"
   ]
  },
  {
   "cell_type": "code",
   "execution_count": 142,
   "id": "710d948d-90d0-4516-87fb-d3b61f2531f7",
   "metadata": {},
   "outputs": [],
   "source": [
    "customer_date_range = pd.DataFrame({\n",
    "    'Date': pd.date_range(\n",
    "        premiums_df['PolicyEffectiveDate'].min(),\n",
    "        premiums_df['PolicyExpirationDate'].max(),\n",
    "        freq = 'D'\n",
    "    )\n",
    "})"
   ]
  },
  {
   "cell_type": "code",
   "execution_count": 143,
   "id": "1c729ae9-2636-4f48-bee9-16150398a1d1",
   "metadata": {},
   "outputs": [],
   "source": [
    "customer_date_range['CustomerId'] = 1248\n",
    "customer_date_range['ActivePolicy'] = 0\n",
    "customer_date_range.loc[customer_date_range['Date'].isin(unique_active_dates), 'ActivePolicy'] = 1"
   ]
  },
  {
   "cell_type": "code",
   "execution_count": 144,
   "id": "390a3ba9-b625-4690-9d03-256e1592ad36",
   "metadata": {},
   "outputs": [],
   "source": [
    "customer_date_range = customer_date_range.loc[customer_date_range['Date'] < '2023-01-01']"
   ]
  },
  {
   "cell_type": "code",
   "execution_count": 145,
   "id": "96b398ce-7bd3-4856-87aa-474f3f64f668",
   "metadata": {},
   "outputs": [],
   "source": [
    "customer_date_range['ProbePosition'] = 0"
   ]
  },
  {
   "cell_type": "code",
   "execution_count": 146,
   "id": "1d13c39c-68f0-4663-be4b-201b3474f2cf",
   "metadata": {},
   "outputs": [],
   "source": [
    "def find_switch(\n",
    "    df : pd.DataFrame,\n",
    "    col : str\n",
    ") -> list:\n",
    "    switch_indices = df[df[col].diff() == -1].index\n",
    "    for idx in switch_indices:\n",
    "        if (df.loc[idx : idx + 59, col] == 0).all():\n",
    "            return idx\n",
    "    return None\n",
    "\n",
    "index = find_switch(customer_date_range, 'ActivePolicy')"
   ]
  },
  {
   "cell_type": "code",
   "execution_count": 147,
   "id": "22ad987c-7838-4b69-8a55-b8c3e9815a66",
   "metadata": {},
   "outputs": [],
   "source": [
    "customer_date_range.loc[\n",
    "    [index - 45, index - 90, index - 135, index - 180, index - 225, index - 270, index - 315, index - 360],\n",
    "    'ProbePosition'\n",
    "] = 1"
   ]
  },
  {
   "cell_type": "code",
   "execution_count": 148,
   "id": "345bab1e-6ce6-42dd-9f5b-b6abc94eea4c",
   "metadata": {},
   "outputs": [
    {
     "data": {
      "text/html": [
       "<div>\n",
       "<style scoped>\n",
       "    .dataframe tbody tr th:only-of-type {\n",
       "        vertical-align: middle;\n",
       "    }\n",
       "\n",
       "    .dataframe tbody tr th {\n",
       "        vertical-align: top;\n",
       "    }\n",
       "\n",
       "    .dataframe thead th {\n",
       "        text-align: right;\n",
       "    }\n",
       "</style>\n",
       "<table border=\"1\" class=\"dataframe\">\n",
       "  <thead>\n",
       "    <tr style=\"text-align: right;\">\n",
       "      <th></th>\n",
       "      <th>Date</th>\n",
       "      <th>CustomerId</th>\n",
       "      <th>ActivePolicy</th>\n",
       "      <th>ProbePosition</th>\n",
       "    </tr>\n",
       "  </thead>\n",
       "  <tbody>\n",
       "    <tr>\n",
       "      <th>295</th>\n",
       "      <td>2018-05-23</td>\n",
       "      <td>1248</td>\n",
       "      <td>1</td>\n",
       "      <td>1</td>\n",
       "    </tr>\n",
       "    <tr>\n",
       "      <th>340</th>\n",
       "      <td>2018-07-07</td>\n",
       "      <td>1248</td>\n",
       "      <td>1</td>\n",
       "      <td>1</td>\n",
       "    </tr>\n",
       "    <tr>\n",
       "      <th>385</th>\n",
       "      <td>2018-08-21</td>\n",
       "      <td>1248</td>\n",
       "      <td>1</td>\n",
       "      <td>1</td>\n",
       "    </tr>\n",
       "    <tr>\n",
       "      <th>430</th>\n",
       "      <td>2018-10-05</td>\n",
       "      <td>1248</td>\n",
       "      <td>1</td>\n",
       "      <td>1</td>\n",
       "    </tr>\n",
       "    <tr>\n",
       "      <th>475</th>\n",
       "      <td>2018-11-19</td>\n",
       "      <td>1248</td>\n",
       "      <td>1</td>\n",
       "      <td>1</td>\n",
       "    </tr>\n",
       "    <tr>\n",
       "      <th>520</th>\n",
       "      <td>2019-01-03</td>\n",
       "      <td>1248</td>\n",
       "      <td>1</td>\n",
       "      <td>1</td>\n",
       "    </tr>\n",
       "    <tr>\n",
       "      <th>565</th>\n",
       "      <td>2019-02-17</td>\n",
       "      <td>1248</td>\n",
       "      <td>1</td>\n",
       "      <td>1</td>\n",
       "    </tr>\n",
       "    <tr>\n",
       "      <th>610</th>\n",
       "      <td>2019-04-03</td>\n",
       "      <td>1248</td>\n",
       "      <td>1</td>\n",
       "      <td>1</td>\n",
       "    </tr>\n",
       "  </tbody>\n",
       "</table>\n",
       "</div>"
      ],
      "text/plain": [
       "          Date  CustomerId  ActivePolicy  ProbePosition\n",
       "295 2018-05-23        1248             1              1\n",
       "340 2018-07-07        1248             1              1\n",
       "385 2018-08-21        1248             1              1\n",
       "430 2018-10-05        1248             1              1\n",
       "475 2018-11-19        1248             1              1\n",
       "520 2019-01-03        1248             1              1\n",
       "565 2019-02-17        1248             1              1\n",
       "610 2019-04-03        1248             1              1"
      ]
     },
     "execution_count": 148,
     "metadata": {},
     "output_type": "execute_result"
    }
   ],
   "source": [
    "customer_date_range.loc[customer_date_range['ProbePosition'] == 1]"
   ]
  },
  {
   "cell_type": "code",
   "execution_count": null,
   "id": "ef2f53c6-2d55-4c77-9096-c86133c08a6a",
   "metadata": {},
   "outputs": [],
   "source": []
  }
 ],
 "metadata": {
  "kernelspec": {
   "display_name": "Python 3 (ipykernel)",
   "language": "python",
   "name": "python3"
  },
  "language_info": {
   "codemirror_mode": {
    "name": "ipython",
    "version": 3
   },
   "file_extension": ".py",
   "mimetype": "text/x-python",
   "name": "python",
   "nbconvert_exporter": "python",
   "pygments_lexer": "ipython3",
   "version": "3.9.2"
  }
 },
 "nbformat": 4,
 "nbformat_minor": 5
}
