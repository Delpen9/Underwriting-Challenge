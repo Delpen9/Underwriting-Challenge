{
 "cells": [
  {
   "cell_type": "markdown",
   "metadata": {},
   "source": [
    "# Fortegra Data Challenge \n",
    "\n",
    "A new potential partner is coming to us with a potential portfolio for us to work with. The portfolio is insurance for irrigation sprinklers, a type of farming equipment. They have been running this program for about 5 years and are looking for a new partner to work with them. We have an opportunity to analyze their data and recommend underwriting changes to improve the performance of their portfolio. We are targeting a loss rate of 60% or lower for any portfolio we work with. Loss ratio is defined as sum of total claims paid / sum of total premium earned, over a given time period.\n",
    "There are 2 datasets attached: claims.csv has one row per claim filed and premiums.csv has one row per piece of equipment.\n",
    "1. Clean the data how you see fit. State your assumptions. Assume that a cleaned subset of the data is better than data which is skewed, biased, or incorrect. Include conceptual validations/cleaning.\n",
    "2. Calculate loss ratio by state, county, customer’s number of previous claims, deductible amount, and equipment year. Explain your results and note anything you found interesting or important.\n",
    "3. Perform other pieces of EDA/analysis you think is interesting. Since time is limited, you can limit to 1-2 analyses, then list other analysis you think would be interesting to look at if you had more time.\n",
    "4. Based on the analysis you’ve done, what are some recommended changes to the underwriting of this portfolio?\n"
   ]
  },
  {
   "cell_type": "code",
   "execution_count": 123,
   "metadata": {},
   "outputs": [],
   "source": [
    "import warnings\n",
    "warnings.filterwarnings('ignore')"
   ]
  },
  {
   "cell_type": "code",
   "execution_count": 12,
   "metadata": {
    "editable": true,
    "slideshow": {
     "slide_type": ""
    },
    "tags": []
   },
   "outputs": [],
   "source": [
    "# Generic Libraries\n",
    "import numpy as np\n",
    "import pandas as pd\n",
    "import seaborn as sns\n",
    "import matplotlib.pyplot as plt"
   ]
  },
  {
   "cell_type": "code",
   "execution_count": 5,
   "metadata": {
    "editable": true,
    "slideshow": {
     "slide_type": ""
    },
    "tags": []
   },
   "outputs": [],
   "source": [
    "claims_data = '../data/claims.csv'\n",
    "premiums_data = '../data/premiums.csv'"
   ]
  },
  {
   "cell_type": "code",
   "execution_count": 8,
   "metadata": {
    "editable": true,
    "slideshow": {
     "slide_type": ""
    },
    "tags": []
   },
   "outputs": [],
   "source": [
    "claims_df = pd.read_csv(claims_data)\n",
    "premiums_df = pd.read_csv(premiums_data)"
   ]
  },
  {
   "cell_type": "markdown",
   "metadata": {},
   "source": [
    "# Data Sanity Checks\n",
    "## Claims Dataframe"
   ]
  },
  {
   "cell_type": "markdown",
   "metadata": {},
   "source": [
    "#### Check for null or NaN values"
   ]
  },
  {
   "cell_type": "code",
   "execution_count": 11,
   "metadata": {},
   "outputs": [
    {
     "data": {
      "text/plain": [
       "PolicyNumber            0\n",
       "CustomerId              0\n",
       "DateOfLoss              0\n",
       "ClaimReceivedDate       2\n",
       "ClaimCause              0\n",
       "TotalPaidToDate         0\n",
       "Deductible              0\n",
       "County                 31\n",
       "State                  31\n",
       "EquipmentYear          33\n",
       "PolicyEffectiveDate     0\n",
       "dtype: int64"
      ]
     },
     "execution_count": 11,
     "metadata": {},
     "output_type": "execute_result"
    }
   ],
   "source": [
    "claims_df.isna().sum()"
   ]
  },
  {
   "cell_type": "code",
   "execution_count": 18,
   "metadata": {},
   "outputs": [
    {
     "data": {
      "text/html": [
       "<div>\n",
       "<style scoped>\n",
       "    .dataframe tbody tr th:only-of-type {\n",
       "        vertical-align: middle;\n",
       "    }\n",
       "\n",
       "    .dataframe tbody tr th {\n",
       "        vertical-align: top;\n",
       "    }\n",
       "\n",
       "    .dataframe thead th {\n",
       "        text-align: right;\n",
       "    }\n",
       "</style>\n",
       "<table border=\"1\" class=\"dataframe\">\n",
       "  <thead>\n",
       "    <tr style=\"text-align: right;\">\n",
       "      <th></th>\n",
       "      <th>PolicyNumber</th>\n",
       "      <th>CustomerId</th>\n",
       "      <th>DateOfLoss</th>\n",
       "      <th>ClaimReceivedDate</th>\n",
       "      <th>ClaimCause</th>\n",
       "      <th>TotalPaidToDate</th>\n",
       "      <th>Deductible</th>\n",
       "      <th>County</th>\n",
       "      <th>State</th>\n",
       "      <th>EquipmentYear</th>\n",
       "      <th>PolicyEffectiveDate</th>\n",
       "    </tr>\n",
       "  </thead>\n",
       "  <tbody>\n",
       "    <tr>\n",
       "      <th>44</th>\n",
       "      <td>P-4875-2022</td>\n",
       "      <td>4254</td>\n",
       "      <td>2022-09-05</td>\n",
       "      <td>2022-10-17</td>\n",
       "      <td>Claim Denied</td>\n",
       "      <td>626.50</td>\n",
       "      <td>2500</td>\n",
       "      <td>NaN</td>\n",
       "      <td>NaN</td>\n",
       "      <td>NaN</td>\n",
       "      <td>2022-05-02</td>\n",
       "    </tr>\n",
       "    <tr>\n",
       "      <th>140</th>\n",
       "      <td>P-1206-2022</td>\n",
       "      <td>4706</td>\n",
       "      <td>2022-07-05</td>\n",
       "      <td>2022-07-07</td>\n",
       "      <td>Claim Denied</td>\n",
       "      <td>0.00</td>\n",
       "      <td>2500</td>\n",
       "      <td>NaN</td>\n",
       "      <td>NaN</td>\n",
       "      <td>NaN</td>\n",
       "      <td>2022-07-05</td>\n",
       "    </tr>\n",
       "    <tr>\n",
       "      <th>335</th>\n",
       "      <td>P-538-2022</td>\n",
       "      <td>3691</td>\n",
       "      <td>2022-05-05</td>\n",
       "      <td>2022-05-09</td>\n",
       "      <td>Claim Withdrawn</td>\n",
       "      <td>0.00</td>\n",
       "      <td>1000</td>\n",
       "      <td>NaN</td>\n",
       "      <td>NaN</td>\n",
       "      <td>NaN</td>\n",
       "      <td>2021-06-01</td>\n",
       "    </tr>\n",
       "    <tr>\n",
       "      <th>408</th>\n",
       "      <td>P-2668-2022</td>\n",
       "      <td>2170</td>\n",
       "      <td>2022-04-22</td>\n",
       "      <td>2022-05-11</td>\n",
       "      <td>Claim Denied</td>\n",
       "      <td>0.00</td>\n",
       "      <td>1000</td>\n",
       "      <td>NaN</td>\n",
       "      <td>NaN</td>\n",
       "      <td>NaN</td>\n",
       "      <td>2021-07-30</td>\n",
       "    </tr>\n",
       "    <tr>\n",
       "      <th>441</th>\n",
       "      <td>P-4732-2022</td>\n",
       "      <td>510</td>\n",
       "      <td>2022-02-23</td>\n",
       "      <td>2022-05-18</td>\n",
       "      <td>Claim Denied</td>\n",
       "      <td>0.00</td>\n",
       "      <td>1000</td>\n",
       "      <td>NaN</td>\n",
       "      <td>NaN</td>\n",
       "      <td>NaN</td>\n",
       "      <td>2022-02-23</td>\n",
       "    </tr>\n",
       "    <tr>\n",
       "      <th>592</th>\n",
       "      <td>P-38-2021</td>\n",
       "      <td>2340</td>\n",
       "      <td>2021-08-19</td>\n",
       "      <td>2021-12-10</td>\n",
       "      <td>Collision-Irr</td>\n",
       "      <td>19224.88</td>\n",
       "      <td>2500</td>\n",
       "      <td>NaN</td>\n",
       "      <td>NaN</td>\n",
       "      <td>NaN</td>\n",
       "      <td>2021-05-15</td>\n",
       "    </tr>\n",
       "    <tr>\n",
       "      <th>756</th>\n",
       "      <td>P-5308-2021</td>\n",
       "      <td>967</td>\n",
       "      <td>2021-06-11</td>\n",
       "      <td>2021-06-21</td>\n",
       "      <td>Collision-Irr</td>\n",
       "      <td>50000.00</td>\n",
       "      <td>2500</td>\n",
       "      <td>NaN</td>\n",
       "      <td>NaN</td>\n",
       "      <td>NaN</td>\n",
       "      <td>2020-08-07</td>\n",
       "    </tr>\n",
       "    <tr>\n",
       "      <th>813</th>\n",
       "      <td>P-5057-2021</td>\n",
       "      <td>5192</td>\n",
       "      <td>2021-04-01</td>\n",
       "      <td>2021-04-15</td>\n",
       "      <td>Claim Denied</td>\n",
       "      <td>0.00</td>\n",
       "      <td>1000</td>\n",
       "      <td>NaN</td>\n",
       "      <td>NaN</td>\n",
       "      <td>NaN</td>\n",
       "      <td>2020-07-22</td>\n",
       "    </tr>\n",
       "    <tr>\n",
       "      <th>827</th>\n",
       "      <td>P-2486-2021</td>\n",
       "      <td>4191</td>\n",
       "      <td>2021-03-15</td>\n",
       "      <td>2021-03-18</td>\n",
       "      <td>Claim Withdrawn</td>\n",
       "      <td>0.00</td>\n",
       "      <td>5000</td>\n",
       "      <td>NaN</td>\n",
       "      <td>NaN</td>\n",
       "      <td>NaN</td>\n",
       "      <td>2020-04-01</td>\n",
       "    </tr>\n",
       "    <tr>\n",
       "      <th>843</th>\n",
       "      <td>P-3871-2021</td>\n",
       "      <td>4499</td>\n",
       "      <td>2021-02-22</td>\n",
       "      <td>2021-03-10</td>\n",
       "      <td>Claim Withdrawn</td>\n",
       "      <td>0.00</td>\n",
       "      <td>1000</td>\n",
       "      <td>NaN</td>\n",
       "      <td>NaN</td>\n",
       "      <td>NaN</td>\n",
       "      <td>2021-02-03</td>\n",
       "    </tr>\n",
       "  </tbody>\n",
       "</table>\n",
       "</div>"
      ],
      "text/plain": [
       "    PolicyNumber  CustomerId  DateOfLoss ClaimReceivedDate       ClaimCause  \\\n",
       "44   P-4875-2022        4254  2022-09-05        2022-10-17     Claim Denied   \n",
       "140  P-1206-2022        4706  2022-07-05        2022-07-07     Claim Denied   \n",
       "335   P-538-2022        3691  2022-05-05        2022-05-09  Claim Withdrawn   \n",
       "408  P-2668-2022        2170  2022-04-22        2022-05-11     Claim Denied   \n",
       "441  P-4732-2022         510  2022-02-23        2022-05-18     Claim Denied   \n",
       "592    P-38-2021        2340  2021-08-19        2021-12-10    Collision-Irr   \n",
       "756  P-5308-2021         967  2021-06-11        2021-06-21    Collision-Irr   \n",
       "813  P-5057-2021        5192  2021-04-01        2021-04-15     Claim Denied   \n",
       "827  P-2486-2021        4191  2021-03-15        2021-03-18  Claim Withdrawn   \n",
       "843  P-3871-2021        4499  2021-02-22        2021-03-10  Claim Withdrawn   \n",
       "\n",
       "     TotalPaidToDate  Deductible County State  EquipmentYear  \\\n",
       "44            626.50        2500    NaN   NaN            NaN   \n",
       "140             0.00        2500    NaN   NaN            NaN   \n",
       "335             0.00        1000    NaN   NaN            NaN   \n",
       "408             0.00        1000    NaN   NaN            NaN   \n",
       "441             0.00        1000    NaN   NaN            NaN   \n",
       "592         19224.88        2500    NaN   NaN            NaN   \n",
       "756         50000.00        2500    NaN   NaN            NaN   \n",
       "813             0.00        1000    NaN   NaN            NaN   \n",
       "827             0.00        5000    NaN   NaN            NaN   \n",
       "843             0.00        1000    NaN   NaN            NaN   \n",
       "\n",
       "    PolicyEffectiveDate  \n",
       "44           2022-05-02  \n",
       "140          2022-07-05  \n",
       "335          2021-06-01  \n",
       "408          2021-07-30  \n",
       "441          2022-02-23  \n",
       "592          2021-05-15  \n",
       "756          2020-08-07  \n",
       "813          2020-07-22  \n",
       "827          2020-04-01  \n",
       "843          2021-02-03  "
      ]
     },
     "execution_count": 18,
     "metadata": {},
     "output_type": "execute_result"
    }
   ],
   "source": [
    "claims_df[claims_df.isna().any(axis = 1)].head(10)"
   ]
  },
  {
   "cell_type": "markdown",
   "metadata": {
    "editable": true,
    "slideshow": {
     "slide_type": ""
    },
    "tags": []
   },
   "source": [
    "#### - It appears that missing information may be linked to \"Claim Withdrawn\" and \"Claim Denied\" status in the ClaimCause field.\n",
    "#### - Additionally, County, State, and EquipmentYear appear to usually be missing concurrently.\n",
    "#### - The ClaimRecievedDate is missing twice; this may be due to some clerical error."
   ]
  },
  {
   "cell_type": "markdown",
   "metadata": {},
   "source": [
    "### Explore Unique Values"
   ]
  },
  {
   "cell_type": "code",
   "execution_count": 34,
   "metadata": {},
   "outputs": [
    {
     "data": {
      "text/plain": [
       "PolicyNumber           2056\n",
       "CustomerId             1555\n",
       "DateOfLoss              931\n",
       "ClaimReceivedDate       831\n",
       "ClaimCause               16\n",
       "TotalPaidToDate        2186\n",
       "Deductible                5\n",
       "County                  249\n",
       "State                    20\n",
       "EquipmentYear            55\n",
       "PolicyEffectiveDate    1082\n",
       "dtype: int64"
      ]
     },
     "execution_count": 34,
     "metadata": {},
     "output_type": "execute_result"
    }
   ],
   "source": [
    "claims_df.nunique()"
   ]
  },
  {
   "cell_type": "markdown",
   "metadata": {},
   "source": [
    "#### - PolicyNumber count is greater than the number of Customers. This is likely due to customers having multiple policies.\n",
    "#### - This observation holds true for the premiums dataframe as well."
   ]
  },
  {
   "cell_type": "markdown",
   "metadata": {},
   "source": [
    "### Feature Breakdown\n",
    "\n",
    "#### Low-Cardinality Ordinal\n",
    "1. EquipmentYear\n",
    "2. Deductible\n",
    "\n",
    "#### High-Cardinality Ordinal\n",
    "1. PolicyEffectiveDate\n",
    "2. ClaimReceivedDate\n",
    "3. DateOfLoss\n",
    "\n",
    "#### Low-Cardinality Categorical\n",
    "1. State\n",
    "2. ClaimCause\n",
    "\n",
    "#### High-Cardinality Categorical\n",
    "1. County\n",
    "2. CustomerId\n",
    "3. PolicyNumber\n",
    "\n",
    "#### Continuous\n",
    "1. TotalPaidToDate"
   ]
  },
  {
   "cell_type": "markdown",
   "metadata": {},
   "source": [
    "# Data Sanity Checks\n",
    "## Premiums Dataframe"
   ]
  },
  {
   "cell_type": "markdown",
   "metadata": {},
   "source": [
    "#### Check for null or NaN values"
   ]
  },
  {
   "cell_type": "code",
   "execution_count": 15,
   "metadata": {},
   "outputs": [
    {
     "data": {
      "text/plain": [
       "PolicyNumber             0\n",
       "CustomerId               0\n",
       "Loc                      0\n",
       "PolicyEffectiveDate      0\n",
       "PolicyExpirationDate     0\n",
       "PolicyPremium            0\n",
       "LocationPremium          0\n",
       "Deductible               0\n",
       "LocValue                 0\n",
       "County                   0\n",
       "State                    0\n",
       "Equip Year              83\n",
       "Equip Value             83\n",
       "dtype: int64"
      ]
     },
     "execution_count": 15,
     "metadata": {},
     "output_type": "execute_result"
    }
   ],
   "source": [
    "premiums_df.isna().sum()"
   ]
  },
  {
   "cell_type": "code",
   "execution_count": 19,
   "metadata": {},
   "outputs": [
    {
     "data": {
      "text/html": [
       "<div>\n",
       "<style scoped>\n",
       "    .dataframe tbody tr th:only-of-type {\n",
       "        vertical-align: middle;\n",
       "    }\n",
       "\n",
       "    .dataframe tbody tr th {\n",
       "        vertical-align: top;\n",
       "    }\n",
       "\n",
       "    .dataframe thead th {\n",
       "        text-align: right;\n",
       "    }\n",
       "</style>\n",
       "<table border=\"1\" class=\"dataframe\">\n",
       "  <thead>\n",
       "    <tr style=\"text-align: right;\">\n",
       "      <th></th>\n",
       "      <th>PolicyNumber</th>\n",
       "      <th>CustomerId</th>\n",
       "      <th>Loc</th>\n",
       "      <th>PolicyEffectiveDate</th>\n",
       "      <th>PolicyExpirationDate</th>\n",
       "      <th>PolicyPremium</th>\n",
       "      <th>LocationPremium</th>\n",
       "      <th>Deductible</th>\n",
       "      <th>LocValue</th>\n",
       "      <th>County</th>\n",
       "      <th>State</th>\n",
       "      <th>Equip Year</th>\n",
       "      <th>Equip Value</th>\n",
       "    </tr>\n",
       "  </thead>\n",
       "  <tbody>\n",
       "    <tr>\n",
       "      <th>5359</th>\n",
       "      <td>P-1031-2022</td>\n",
       "      <td>1278</td>\n",
       "      <td>5</td>\n",
       "      <td>2022-06-01</td>\n",
       "      <td>2023-06-01</td>\n",
       "      <td>40634</td>\n",
       "      <td>2209.107960</td>\n",
       "      <td>1000</td>\n",
       "      <td>163935.90</td>\n",
       "      <td>Edwards</td>\n",
       "      <td>KS</td>\n",
       "      <td>NaN</td>\n",
       "      <td>NaN</td>\n",
       "    </tr>\n",
       "    <tr>\n",
       "      <th>5378</th>\n",
       "      <td>P-1031-2022</td>\n",
       "      <td>1278</td>\n",
       "      <td>14</td>\n",
       "      <td>2022-06-01</td>\n",
       "      <td>2023-06-01</td>\n",
       "      <td>40634</td>\n",
       "      <td>2309.700103</td>\n",
       "      <td>1000</td>\n",
       "      <td>147693.00</td>\n",
       "      <td>Edwards</td>\n",
       "      <td>KS</td>\n",
       "      <td>NaN</td>\n",
       "      <td>NaN</td>\n",
       "    </tr>\n",
       "    <tr>\n",
       "      <th>8622</th>\n",
       "      <td>P-1860-2019</td>\n",
       "      <td>4671</td>\n",
       "      <td>2</td>\n",
       "      <td>2019-05-06</td>\n",
       "      <td>2020-05-06</td>\n",
       "      <td>2248</td>\n",
       "      <td>358.949932</td>\n",
       "      <td>1000</td>\n",
       "      <td>22954.25</td>\n",
       "      <td>Crosby</td>\n",
       "      <td>TX</td>\n",
       "      <td>NaN</td>\n",
       "      <td>NaN</td>\n",
       "    </tr>\n",
       "    <tr>\n",
       "      <th>8624</th>\n",
       "      <td>P-1860-2019</td>\n",
       "      <td>4671</td>\n",
       "      <td>3</td>\n",
       "      <td>2019-05-06</td>\n",
       "      <td>2020-05-06</td>\n",
       "      <td>2248</td>\n",
       "      <td>154.125395</td>\n",
       "      <td>1000</td>\n",
       "      <td>9869.25</td>\n",
       "      <td>Hale</td>\n",
       "      <td>TX</td>\n",
       "      <td>NaN</td>\n",
       "      <td>NaN</td>\n",
       "    </tr>\n",
       "    <tr>\n",
       "      <th>8627</th>\n",
       "      <td>P-1860-2020</td>\n",
       "      <td>4671</td>\n",
       "      <td>2</td>\n",
       "      <td>2020-05-06</td>\n",
       "      <td>2021-05-06</td>\n",
       "      <td>2248</td>\n",
       "      <td>367.000000</td>\n",
       "      <td>1000</td>\n",
       "      <td>22954.25</td>\n",
       "      <td>Crosby</td>\n",
       "      <td>TX</td>\n",
       "      <td>NaN</td>\n",
       "      <td>NaN</td>\n",
       "    </tr>\n",
       "    <tr>\n",
       "      <th>8629</th>\n",
       "      <td>P-1860-2020</td>\n",
       "      <td>4671</td>\n",
       "      <td>3</td>\n",
       "      <td>2020-05-06</td>\n",
       "      <td>2021-05-06</td>\n",
       "      <td>2248</td>\n",
       "      <td>158.000000</td>\n",
       "      <td>1000</td>\n",
       "      <td>9869.25</td>\n",
       "      <td>Hale</td>\n",
       "      <td>TX</td>\n",
       "      <td>NaN</td>\n",
       "      <td>NaN</td>\n",
       "    </tr>\n",
       "    <tr>\n",
       "      <th>9279</th>\n",
       "      <td>P-1042-2018</td>\n",
       "      <td>3246</td>\n",
       "      <td>5</td>\n",
       "      <td>2018-03-26</td>\n",
       "      <td>2019-03-26</td>\n",
       "      <td>5392</td>\n",
       "      <td>557.000000</td>\n",
       "      <td>1000</td>\n",
       "      <td>33743.59</td>\n",
       "      <td>Clay</td>\n",
       "      <td>SD</td>\n",
       "      <td>NaN</td>\n",
       "      <td>NaN</td>\n",
       "    </tr>\n",
       "    <tr>\n",
       "      <th>14549</th>\n",
       "      <td>P-3697-2018</td>\n",
       "      <td>1589</td>\n",
       "      <td>6</td>\n",
       "      <td>2018-09-02</td>\n",
       "      <td>2019-09-02</td>\n",
       "      <td>8737</td>\n",
       "      <td>1285.000000</td>\n",
       "      <td>1000</td>\n",
       "      <td>80341.18</td>\n",
       "      <td>Tom Green</td>\n",
       "      <td>TX</td>\n",
       "      <td>NaN</td>\n",
       "      <td>NaN</td>\n",
       "    </tr>\n",
       "    <tr>\n",
       "      <th>14558</th>\n",
       "      <td>P-3697-2019</td>\n",
       "      <td>1589</td>\n",
       "      <td>6</td>\n",
       "      <td>2019-09-02</td>\n",
       "      <td>2020-09-02</td>\n",
       "      <td>12615</td>\n",
       "      <td>1380.067683</td>\n",
       "      <td>1000</td>\n",
       "      <td>80341.18</td>\n",
       "      <td>Tom Green</td>\n",
       "      <td>TX</td>\n",
       "      <td>NaN</td>\n",
       "      <td>NaN</td>\n",
       "    </tr>\n",
       "    <tr>\n",
       "      <th>14570</th>\n",
       "      <td>P-3697-2020</td>\n",
       "      <td>1589</td>\n",
       "      <td>6</td>\n",
       "      <td>2020-09-02</td>\n",
       "      <td>2021-09-02</td>\n",
       "      <td>12615</td>\n",
       "      <td>1285.000000</td>\n",
       "      <td>1000</td>\n",
       "      <td>80341.18</td>\n",
       "      <td>Tom Green</td>\n",
       "      <td>TX</td>\n",
       "      <td>NaN</td>\n",
       "      <td>NaN</td>\n",
       "    </tr>\n",
       "  </tbody>\n",
       "</table>\n",
       "</div>"
      ],
      "text/plain": [
       "      PolicyNumber  CustomerId  Loc PolicyEffectiveDate PolicyExpirationDate  \\\n",
       "5359   P-1031-2022        1278    5          2022-06-01           2023-06-01   \n",
       "5378   P-1031-2022        1278   14          2022-06-01           2023-06-01   \n",
       "8622   P-1860-2019        4671    2          2019-05-06           2020-05-06   \n",
       "8624   P-1860-2019        4671    3          2019-05-06           2020-05-06   \n",
       "8627   P-1860-2020        4671    2          2020-05-06           2021-05-06   \n",
       "8629   P-1860-2020        4671    3          2020-05-06           2021-05-06   \n",
       "9279   P-1042-2018        3246    5          2018-03-26           2019-03-26   \n",
       "14549  P-3697-2018        1589    6          2018-09-02           2019-09-02   \n",
       "14558  P-3697-2019        1589    6          2019-09-02           2020-09-02   \n",
       "14570  P-3697-2020        1589    6          2020-09-02           2021-09-02   \n",
       "\n",
       "       PolicyPremium  LocationPremium  Deductible   LocValue     County State  \\\n",
       "5359           40634      2209.107960        1000  163935.90    Edwards    KS   \n",
       "5378           40634      2309.700103        1000  147693.00    Edwards    KS   \n",
       "8622            2248       358.949932        1000   22954.25     Crosby    TX   \n",
       "8624            2248       154.125395        1000    9869.25       Hale    TX   \n",
       "8627            2248       367.000000        1000   22954.25     Crosby    TX   \n",
       "8629            2248       158.000000        1000    9869.25       Hale    TX   \n",
       "9279            5392       557.000000        1000   33743.59       Clay    SD   \n",
       "14549           8737      1285.000000        1000   80341.18  Tom Green    TX   \n",
       "14558          12615      1380.067683        1000   80341.18  Tom Green    TX   \n",
       "14570          12615      1285.000000        1000   80341.18  Tom Green    TX   \n",
       "\n",
       "       Equip Year  Equip Value  \n",
       "5359          NaN          NaN  \n",
       "5378          NaN          NaN  \n",
       "8622          NaN          NaN  \n",
       "8624          NaN          NaN  \n",
       "8627          NaN          NaN  \n",
       "8629          NaN          NaN  \n",
       "9279          NaN          NaN  \n",
       "14549         NaN          NaN  \n",
       "14558         NaN          NaN  \n",
       "14570         NaN          NaN  "
      ]
     },
     "execution_count": 19,
     "metadata": {},
     "output_type": "execute_result"
    }
   ],
   "source": [
    "premiums_df[premiums_df.isna().any(axis = 1)].head(10)"
   ]
  },
  {
   "cell_type": "markdown",
   "metadata": {},
   "source": [
    "#### - Equipment Year and Equipment Value are typically missing, concurrently."
   ]
  },
  {
   "cell_type": "markdown",
   "metadata": {},
   "source": [
    "### Explore Unique Values"
   ]
  },
  {
   "cell_type": "code",
   "execution_count": 33,
   "metadata": {},
   "outputs": [
    {
     "data": {
      "text/plain": [
       "PolicyNumber            17522\n",
       "CustomerId               5307\n",
       "Loc                       126\n",
       "PolicyEffectiveDate      1995\n",
       "PolicyExpirationDate     1995\n",
       "PolicyPremium            6318\n",
       "LocationPremium         25934\n",
       "Deductible                  5\n",
       "LocValue                 3944\n",
       "County                    383\n",
       "State                      28\n",
       "Equip Year                 63\n",
       "Equip Value              3915\n",
       "dtype: int64"
      ]
     },
     "execution_count": 33,
     "metadata": {},
     "output_type": "execute_result"
    }
   ],
   "source": [
    "premiums_df.nunique()"
   ]
  },
  {
   "cell_type": "markdown",
   "metadata": {},
   "source": [
    "#### - While it appears that LocValue and Equip Value are the same, LocValue has more distinct values, suggesting there are some differences."
   ]
  },
  {
   "cell_type": "markdown",
   "metadata": {},
   "source": [
    "### Feature Breakdown\n",
    "\n",
    "#### Low-Cardinality Ordinal\n",
    "1. Equip Year\n",
    "2. Deductible\n",
    "3. Loc\n",
    "\n",
    "#### High-Cardinality Ordinal\n",
    "1. PolicyExpirationDate\n",
    "2. PolicyEffectiveDate\n",
    "\n",
    "#### Low-Cardinality Categorical\n",
    "1. State\n",
    "\n",
    "#### High-Cardinality Categorical\n",
    "1. County\n",
    "2. CustomerId\n",
    "3. PolicyNumber\n",
    "\n",
    "#### Continuous\n",
    "1. Equip Value\n",
    "2. LocValue\n",
    "3. LocationPremium\n",
    "4. PolicyPremium"
   ]
  },
  {
   "cell_type": "markdown",
   "metadata": {},
   "source": [
    "# Hypothesis:\n",
    "### Claim Denied and Claim Withdrawn are linked to NULL values in County/State/Equipment Year"
   ]
  },
  {
   "cell_type": "code",
   "execution_count": 37,
   "metadata": {},
   "outputs": [],
   "source": [
    "def set_hypothesis_value(\n",
    "    row : any\n",
    ") -> int:\n",
    "    if row['ClaimCause'] == 'Claim Withdrawn' or row['ClaimCause'] == 'Claim Denied':\n",
    "        return 1\n",
    "    else:\n",
    "        return 0"
   ]
  },
  {
   "cell_type": "code",
   "execution_count": 38,
   "metadata": {},
   "outputs": [],
   "source": [
    "hypothesis_df = claims_df.copy()[['ClaimCause', 'County', 'State', 'EquipmentYear']]\n",
    "hypothesis_df['hypothesisFlag'] = hypothesis_df.apply(set_hypothesis_value, axis = 1)"
   ]
  },
  {
   "cell_type": "code",
   "execution_count": 39,
   "metadata": {},
   "outputs": [
    {
     "data": {
      "text/html": [
       "<div>\n",
       "<style scoped>\n",
       "    .dataframe tbody tr th:only-of-type {\n",
       "        vertical-align: middle;\n",
       "    }\n",
       "\n",
       "    .dataframe tbody tr th {\n",
       "        vertical-align: top;\n",
       "    }\n",
       "\n",
       "    .dataframe thead th {\n",
       "        text-align: right;\n",
       "    }\n",
       "</style>\n",
       "<table border=\"1\" class=\"dataframe\">\n",
       "  <thead>\n",
       "    <tr style=\"text-align: right;\">\n",
       "      <th></th>\n",
       "      <th>ClaimCause</th>\n",
       "      <th>County</th>\n",
       "      <th>State</th>\n",
       "      <th>EquipmentYear</th>\n",
       "      <th>hypothesisFlag</th>\n",
       "    </tr>\n",
       "  </thead>\n",
       "  <tbody>\n",
       "    <tr>\n",
       "      <th>2</th>\n",
       "      <td>Claim Withdrawn</td>\n",
       "      <td>Edwards</td>\n",
       "      <td>KS</td>\n",
       "      <td>0.0</td>\n",
       "      <td>1</td>\n",
       "    </tr>\n",
       "    <tr>\n",
       "      <th>6</th>\n",
       "      <td>Claim Denied</td>\n",
       "      <td>Sherman</td>\n",
       "      <td>KS</td>\n",
       "      <td>2001.0</td>\n",
       "      <td>1</td>\n",
       "    </tr>\n",
       "    <tr>\n",
       "      <th>15</th>\n",
       "      <td>Claim Withdrawn</td>\n",
       "      <td>Fillmore</td>\n",
       "      <td>NE</td>\n",
       "      <td>1976.0</td>\n",
       "      <td>1</td>\n",
       "    </tr>\n",
       "    <tr>\n",
       "      <th>44</th>\n",
       "      <td>Claim Denied</td>\n",
       "      <td>NaN</td>\n",
       "      <td>NaN</td>\n",
       "      <td>NaN</td>\n",
       "      <td>1</td>\n",
       "    </tr>\n",
       "    <tr>\n",
       "      <th>64</th>\n",
       "      <td>Claim Withdrawn</td>\n",
       "      <td>Garden</td>\n",
       "      <td>NE</td>\n",
       "      <td>2000.0</td>\n",
       "      <td>1</td>\n",
       "    </tr>\n",
       "  </tbody>\n",
       "</table>\n",
       "</div>"
      ],
      "text/plain": [
       "         ClaimCause    County State  EquipmentYear  hypothesisFlag\n",
       "2   Claim Withdrawn   Edwards    KS            0.0               1\n",
       "6      Claim Denied   Sherman    KS         2001.0               1\n",
       "15  Claim Withdrawn  Fillmore    NE         1976.0               1\n",
       "44     Claim Denied       NaN   NaN            NaN               1\n",
       "64  Claim Withdrawn    Garden    NE         2000.0               1"
      ]
     },
     "execution_count": 39,
     "metadata": {},
     "output_type": "execute_result"
    }
   ],
   "source": [
    "hypothesis_df.loc[hypothesis_df['hypothesisFlag'] == 1].head(5)"
   ]
  },
  {
   "cell_type": "code",
   "execution_count": 87,
   "metadata": {},
   "outputs": [],
   "source": [
    "def set_null_value(\n",
    "    row : any\n",
    ") -> int:\n",
    "    if pd.isna(row['County']) or pd.isna(row['State']) or pd.isna(row['EquipmentYear']):\n",
    "        return 1\n",
    "    else:\n",
    "        return 0"
   ]
  },
  {
   "cell_type": "code",
   "execution_count": 88,
   "metadata": {},
   "outputs": [],
   "source": [
    "hypothesis_df['nullFlag'] = hypothesis_df.apply(set_null_value, axis = 1)"
   ]
  },
  {
   "cell_type": "code",
   "execution_count": 89,
   "metadata": {},
   "outputs": [
    {
     "data": {
      "text/html": [
       "<div>\n",
       "<style scoped>\n",
       "    .dataframe tbody tr th:only-of-type {\n",
       "        vertical-align: middle;\n",
       "    }\n",
       "\n",
       "    .dataframe tbody tr th {\n",
       "        vertical-align: top;\n",
       "    }\n",
       "\n",
       "    .dataframe thead th {\n",
       "        text-align: right;\n",
       "    }\n",
       "</style>\n",
       "<table border=\"1\" class=\"dataframe\">\n",
       "  <thead>\n",
       "    <tr style=\"text-align: right;\">\n",
       "      <th></th>\n",
       "      <th>ClaimCause</th>\n",
       "      <th>County</th>\n",
       "      <th>State</th>\n",
       "      <th>EquipmentYear</th>\n",
       "      <th>hypothesisFlag</th>\n",
       "      <th>nullFlag</th>\n",
       "    </tr>\n",
       "  </thead>\n",
       "  <tbody>\n",
       "    <tr>\n",
       "      <th>2</th>\n",
       "      <td>Claim Withdrawn</td>\n",
       "      <td>Edwards</td>\n",
       "      <td>KS</td>\n",
       "      <td>0.0</td>\n",
       "      <td>1</td>\n",
       "      <td>0</td>\n",
       "    </tr>\n",
       "    <tr>\n",
       "      <th>6</th>\n",
       "      <td>Claim Denied</td>\n",
       "      <td>Sherman</td>\n",
       "      <td>KS</td>\n",
       "      <td>2001.0</td>\n",
       "      <td>1</td>\n",
       "      <td>0</td>\n",
       "    </tr>\n",
       "    <tr>\n",
       "      <th>15</th>\n",
       "      <td>Claim Withdrawn</td>\n",
       "      <td>Fillmore</td>\n",
       "      <td>NE</td>\n",
       "      <td>1976.0</td>\n",
       "      <td>1</td>\n",
       "      <td>0</td>\n",
       "    </tr>\n",
       "    <tr>\n",
       "      <th>44</th>\n",
       "      <td>Claim Denied</td>\n",
       "      <td>NaN</td>\n",
       "      <td>NaN</td>\n",
       "      <td>NaN</td>\n",
       "      <td>1</td>\n",
       "      <td>1</td>\n",
       "    </tr>\n",
       "    <tr>\n",
       "      <th>64</th>\n",
       "      <td>Claim Withdrawn</td>\n",
       "      <td>Garden</td>\n",
       "      <td>NE</td>\n",
       "      <td>2000.0</td>\n",
       "      <td>1</td>\n",
       "      <td>0</td>\n",
       "    </tr>\n",
       "  </tbody>\n",
       "</table>\n",
       "</div>"
      ],
      "text/plain": [
       "         ClaimCause    County State  EquipmentYear  hypothesisFlag  nullFlag\n",
       "2   Claim Withdrawn   Edwards    KS            0.0               1         0\n",
       "6      Claim Denied   Sherman    KS         2001.0               1         0\n",
       "15  Claim Withdrawn  Fillmore    NE         1976.0               1         0\n",
       "44     Claim Denied       NaN   NaN            NaN               1         1\n",
       "64  Claim Withdrawn    Garden    NE         2000.0               1         0"
      ]
     },
     "execution_count": 89,
     "metadata": {},
     "output_type": "execute_result"
    }
   ],
   "source": [
    "hypothesis_df.loc[hypothesis_df['hypothesisFlag'] == 1].head(5)"
   ]
  },
  {
   "cell_type": "code",
   "execution_count": 91,
   "metadata": {},
   "outputs": [],
   "source": [
    "from scipy.stats import chi2_contingency"
   ]
  },
  {
   "cell_type": "code",
   "execution_count": 97,
   "metadata": {},
   "outputs": [
    {
     "name": "stdout",
     "output_type": "stream",
     "text": [
      "The binary features are correlated with a p-value of: 1.250353815000371e-44\n"
     ]
    }
   ],
   "source": [
    "contingency_table = pd.crosstab(hypothesis_df['nullFlag'], hypothesis_df['hypothesisFlag'])\n",
    "\n",
    "chi2, p_value, _, _ = chi2_contingency(contingency_table)\n",
    "\n",
    "alpha = 0.05\n",
    "if p_value < alpha:\n",
    "    print(fr'The binary features are correlated with a p-value of: {p_value}')\n",
    "else:\n",
    "    print(fr'The binary features are NOT correlated with a p-value of: {p_value}')"
   ]
  },
  {
   "cell_type": "code",
   "execution_count": 102,
   "metadata": {},
   "outputs": [
    {
     "data": {
      "image/png": "[encoded data removed]",
      "text/plain": [
       "<Figure size 640x480 with 1 Axes>"
      ]
     },
     "metadata": {},
     "output_type": "display_data"
    }
   ],
   "source": [
    "mean_by_nullFlag = hypothesis_df.groupby('nullFlag')['hypothesisFlag'].mean()\n",
    "\n",
    "plt.bar(mean_by_nullFlag.index.astype(str), mean_by_nullFlag)\n",
    "plt.xlabel('Null Value Flag')\n",
    "plt.ylabel('Probability of Claim Denied or Withdrawn')\n",
    "plt.title('Probability of Claim Denied or Withdrawn By Null Values Present')\n",
    "plt.show()"
   ]
  },
  {
   "cell_type": "markdown",
   "metadata": {},
   "source": [
    "### - The hypothesis is true: if a NULL value is present, the claim is MUCH more likely to be denied or withdrawn.\n",
    "### - Based on the objective of the overall analysis, we can probably drop claims denied and claims withdrawn from the dataset. As a result, this should mostly reduce all of the NULL values."
   ]
  },
  {
   "cell_type": "markdown",
   "metadata": {},
   "source": [
    "# Dropping 'Claims Denied' and 'Claims Withdrawn'"
   ]
  },
  {
   "cell_type": "code",
   "execution_count": 104,
   "metadata": {},
   "outputs": [
    {
     "data": {
      "text/plain": [
       "array(['Lightning-Irr', 'Claim Withdrawn', 'Collision-Irr', 'M&E-Irr',\n",
       "       'Claim Denied', 'Wind-Irr', 'Collapse-Irr', 'Fire-Irr', 'Hail-Irr',\n",
       "       'Theft-Irr', 'Flood-Irr', 'Vandalism-Irr', 'Animal-Irr',\n",
       "       'Overturn-Irr', 'Freezing-Irr', 'Vand-Irr'], dtype=object)"
      ]
     },
     "execution_count": 104,
     "metadata": {},
     "output_type": "execute_result"
    }
   ],
   "source": [
    "claims_df['ClaimCause'].unique()"
   ]
  },
  {
   "cell_type": "code",
   "execution_count": 105,
   "metadata": {
    "editable": true,
    "slideshow": {
     "slide_type": ""
    },
    "tags": []
   },
   "outputs": [],
   "source": [
    "claims_df = claims_df[~claims_df['ClaimCause'].isin(['Claim Denied', 'Claim Withdrawn'])]"
   ]
  },
  {
   "cell_type": "markdown",
   "metadata": {},
   "source": [
    "### Check for presence of NULL values again"
   ]
  },
  {
   "cell_type": "code",
   "execution_count": 107,
   "metadata": {},
   "outputs": [
    {
     "data": {
      "text/plain": [
       "PolicyNumber            0\n",
       "CustomerId              0\n",
       "DateOfLoss              0\n",
       "ClaimReceivedDate       2\n",
       "ClaimCause              0\n",
       "TotalPaidToDate         0\n",
       "Deductible              0\n",
       "County                  9\n",
       "State                   9\n",
       "EquipmentYear          11\n",
       "PolicyEffectiveDate     0\n",
       "dtype: int64"
      ]
     },
     "execution_count": 107,
     "metadata": {},
     "output_type": "execute_result"
    }
   ],
   "source": [
    "claims_df.isna().sum()"
   ]
  },
  {
   "cell_type": "markdown",
   "metadata": {},
   "source": [
    "#### - Some NULL values are still present; however, NULL values may be important from a modeling perspective.\n",
    "#### - Nevertheless, for the sake of Exploratory Data Analysis (EDA), we will drop NULL values.\n",
    "#### - When doing modeling, we will retain NULL values (XGBoost or imputation techniques)"
   ]
  },
  {
   "cell_type": "markdown",
   "metadata": {},
   "source": [
    "# Dropping NULL Values"
   ]
  },
  {
   "cell_type": "code",
   "execution_count": 108,
   "metadata": {
    "editable": true,
    "slideshow": {
     "slide_type": ""
    },
    "tags": []
   },
   "outputs": [
    {
     "data": {
      "text/plain": [
       "PolicyNumber           0\n",
       "CustomerId             0\n",
       "DateOfLoss             0\n",
       "ClaimReceivedDate      0\n",
       "ClaimCause             0\n",
       "TotalPaidToDate        0\n",
       "Deductible             0\n",
       "County                 0\n",
       "State                  0\n",
       "EquipmentYear          0\n",
       "PolicyEffectiveDate    0\n",
       "dtype: int64"
      ]
     },
     "execution_count": 108,
     "metadata": {},
     "output_type": "execute_result"
    }
   ],
   "source": [
    "claims_df = claims_df.dropna()\n",
    "claims_df.isna().sum()"
   ]
  },
  {
   "cell_type": "code",
   "execution_count": 109,
   "metadata": {},
   "outputs": [
    {
     "data": {
      "text/html": [
       "<div>\n",
       "<style scoped>\n",
       "    .dataframe tbody tr th:only-of-type {\n",
       "        vertical-align: middle;\n",
       "    }\n",
       "\n",
       "    .dataframe tbody tr th {\n",
       "        vertical-align: top;\n",
       "    }\n",
       "\n",
       "    .dataframe thead th {\n",
       "        text-align: right;\n",
       "    }\n",
       "</style>\n",
       "<table border=\"1\" class=\"dataframe\">\n",
       "  <thead>\n",
       "    <tr style=\"text-align: right;\">\n",
       "      <th></th>\n",
       "      <th>PolicyNumber</th>\n",
       "      <th>CustomerId</th>\n",
       "      <th>DateOfLoss</th>\n",
       "      <th>ClaimReceivedDate</th>\n",
       "      <th>ClaimCause</th>\n",
       "      <th>TotalPaidToDate</th>\n",
       "      <th>Deductible</th>\n",
       "      <th>County</th>\n",
       "      <th>State</th>\n",
       "      <th>EquipmentYear</th>\n",
       "      <th>PolicyEffectiveDate</th>\n",
       "    </tr>\n",
       "  </thead>\n",
       "  <tbody>\n",
       "    <tr>\n",
       "      <th>0</th>\n",
       "      <td>P-654-2022</td>\n",
       "      <td>419</td>\n",
       "      <td>2022-12-23</td>\n",
       "      <td>2023-01-03</td>\n",
       "      <td>Lightning-Irr</td>\n",
       "      <td>10466.75</td>\n",
       "      <td>1000</td>\n",
       "      <td>Chase</td>\n",
       "      <td>NE</td>\n",
       "      <td>1993.0</td>\n",
       "      <td>2022-11-20</td>\n",
       "    </tr>\n",
       "    <tr>\n",
       "      <th>1</th>\n",
       "      <td>P-3199-2022</td>\n",
       "      <td>2667</td>\n",
       "      <td>2022-12-19</td>\n",
       "      <td>2023-02-08</td>\n",
       "      <td>Lightning-Irr</td>\n",
       "      <td>4535.69</td>\n",
       "      <td>1000</td>\n",
       "      <td>Tattnall</td>\n",
       "      <td>GA</td>\n",
       "      <td>0.0</td>\n",
       "      <td>2022-03-19</td>\n",
       "    </tr>\n",
       "    <tr>\n",
       "      <th>3</th>\n",
       "      <td>P-4890-2022</td>\n",
       "      <td>2794</td>\n",
       "      <td>2022-12-02</td>\n",
       "      <td>2022-12-08</td>\n",
       "      <td>Collision-Irr</td>\n",
       "      <td>20347.48</td>\n",
       "      <td>1000</td>\n",
       "      <td>Pawnee</td>\n",
       "      <td>KS</td>\n",
       "      <td>2022.0</td>\n",
       "      <td>2022-10-01</td>\n",
       "    </tr>\n",
       "    <tr>\n",
       "      <th>4</th>\n",
       "      <td>P-4102-2022</td>\n",
       "      <td>1233</td>\n",
       "      <td>2022-11-22</td>\n",
       "      <td>2022-11-29</td>\n",
       "      <td>Collision-Irr</td>\n",
       "      <td>15458.86</td>\n",
       "      <td>1000</td>\n",
       "      <td>Floyd</td>\n",
       "      <td>TX</td>\n",
       "      <td>0.0</td>\n",
       "      <td>2022-04-08</td>\n",
       "    </tr>\n",
       "    <tr>\n",
       "      <th>5</th>\n",
       "      <td>P-3968-2022</td>\n",
       "      <td>3700</td>\n",
       "      <td>2022-11-04</td>\n",
       "      <td>2022-11-14</td>\n",
       "      <td>M&amp;E-Irr</td>\n",
       "      <td>8511.76</td>\n",
       "      <td>1000</td>\n",
       "      <td>Cochran</td>\n",
       "      <td>TX</td>\n",
       "      <td>2016.0</td>\n",
       "      <td>2022-02-23</td>\n",
       "    </tr>\n",
       "  </tbody>\n",
       "</table>\n",
       "</div>"
      ],
      "text/plain": [
       "  PolicyNumber  CustomerId  DateOfLoss ClaimReceivedDate     ClaimCause  \\\n",
       "0   P-654-2022         419  2022-12-23        2023-01-03  Lightning-Irr   \n",
       "1  P-3199-2022        2667  2022-12-19        2023-02-08  Lightning-Irr   \n",
       "3  P-4890-2022        2794  2022-12-02        2022-12-08  Collision-Irr   \n",
       "4  P-4102-2022        1233  2022-11-22        2022-11-29  Collision-Irr   \n",
       "5  P-3968-2022        3700  2022-11-04        2022-11-14        M&E-Irr   \n",
       "\n",
       "   TotalPaidToDate  Deductible    County State  EquipmentYear  \\\n",
       "0         10466.75        1000     Chase    NE         1993.0   \n",
       "1          4535.69        1000  Tattnall    GA            0.0   \n",
       "3         20347.48        1000    Pawnee    KS         2022.0   \n",
       "4         15458.86        1000     Floyd    TX            0.0   \n",
       "5          8511.76        1000   Cochran    TX         2016.0   \n",
       "\n",
       "  PolicyEffectiveDate  \n",
       "0          2022-11-20  \n",
       "1          2022-03-19  \n",
       "3          2022-10-01  \n",
       "4          2022-04-08  \n",
       "5          2022-02-23  "
      ]
     },
     "execution_count": 109,
     "metadata": {},
     "output_type": "execute_result"
    }
   ],
   "source": [
    "claims_df.head(5)"
   ]
  },
  {
   "cell_type": "code",
   "execution_count": 113,
   "metadata": {
    "editable": true,
    "slideshow": {
     "slide_type": ""
    },
    "tags": []
   },
   "outputs": [
    {
     "data": {
      "text/plain": [
       "PolicyNumber            0\n",
       "CustomerId              0\n",
       "Loc                     0\n",
       "PolicyEffectiveDate     0\n",
       "PolicyExpirationDate    0\n",
       "PolicyPremium           0\n",
       "LocationPremium         0\n",
       "Deductible              0\n",
       "LocValue                0\n",
       "County                  0\n",
       "State                   0\n",
       "Equip Year              0\n",
       "Equip Value             0\n",
       "dtype: int64"
      ]
     },
     "execution_count": 113,
     "metadata": {},
     "output_type": "execute_result"
    }
   ],
   "source": [
    "premiums_df = premiums_df.dropna()\n",
    "premiums_df.isna().sum()"
   ]
  },
  {
   "cell_type": "code",
   "execution_count": 114,
   "metadata": {},
   "outputs": [
    {
     "data": {
      "text/html": [
       "<div>\n",
       "<style scoped>\n",
       "    .dataframe tbody tr th:only-of-type {\n",
       "        vertical-align: middle;\n",
       "    }\n",
       "\n",
       "    .dataframe tbody tr th {\n",
       "        vertical-align: top;\n",
       "    }\n",
       "\n",
       "    .dataframe thead th {\n",
       "        text-align: right;\n",
       "    }\n",
       "</style>\n",
       "<table border=\"1\" class=\"dataframe\">\n",
       "  <thead>\n",
       "    <tr style=\"text-align: right;\">\n",
       "      <th></th>\n",
       "      <th>PolicyNumber</th>\n",
       "      <th>CustomerId</th>\n",
       "      <th>Loc</th>\n",
       "      <th>PolicyEffectiveDate</th>\n",
       "      <th>PolicyExpirationDate</th>\n",
       "      <th>PolicyPremium</th>\n",
       "      <th>LocationPremium</th>\n",
       "      <th>Deductible</th>\n",
       "      <th>LocValue</th>\n",
       "      <th>County</th>\n",
       "      <th>State</th>\n",
       "      <th>Equip Year</th>\n",
       "      <th>Equip Value</th>\n",
       "    </tr>\n",
       "  </thead>\n",
       "  <tbody>\n",
       "    <tr>\n",
       "      <th>0</th>\n",
       "      <td>P-562-2018</td>\n",
       "      <td>3833</td>\n",
       "      <td>1</td>\n",
       "      <td>2018-03-01</td>\n",
       "      <td>2019-03-01</td>\n",
       "      <td>594</td>\n",
       "      <td>594.0</td>\n",
       "      <td>1000</td>\n",
       "      <td>36000.0</td>\n",
       "      <td>Furnas</td>\n",
       "      <td>NE</td>\n",
       "      <td>1994.0</td>\n",
       "      <td>36000.0</td>\n",
       "    </tr>\n",
       "    <tr>\n",
       "      <th>1</th>\n",
       "      <td>P-5085-2018</td>\n",
       "      <td>3123</td>\n",
       "      <td>1</td>\n",
       "      <td>2018-08-10</td>\n",
       "      <td>2019-08-10</td>\n",
       "      <td>7520</td>\n",
       "      <td>960.0</td>\n",
       "      <td>1000</td>\n",
       "      <td>60000.0</td>\n",
       "      <td>Castro</td>\n",
       "      <td>TX</td>\n",
       "      <td>1993.0</td>\n",
       "      <td>60000.0</td>\n",
       "    </tr>\n",
       "    <tr>\n",
       "      <th>2</th>\n",
       "      <td>P-5085-2018</td>\n",
       "      <td>3123</td>\n",
       "      <td>2</td>\n",
       "      <td>2018-08-10</td>\n",
       "      <td>2019-08-10</td>\n",
       "      <td>7520</td>\n",
       "      <td>1760.0</td>\n",
       "      <td>1000</td>\n",
       "      <td>110000.0</td>\n",
       "      <td>Castro</td>\n",
       "      <td>TX</td>\n",
       "      <td>2015.0</td>\n",
       "      <td>110000.0</td>\n",
       "    </tr>\n",
       "    <tr>\n",
       "      <th>3</th>\n",
       "      <td>P-5085-2018</td>\n",
       "      <td>3123</td>\n",
       "      <td>3</td>\n",
       "      <td>2018-08-10</td>\n",
       "      <td>2019-08-10</td>\n",
       "      <td>7520</td>\n",
       "      <td>960.0</td>\n",
       "      <td>1000</td>\n",
       "      <td>60000.0</td>\n",
       "      <td>Castro</td>\n",
       "      <td>TX</td>\n",
       "      <td>1988.0</td>\n",
       "      <td>60000.0</td>\n",
       "    </tr>\n",
       "    <tr>\n",
       "      <th>4</th>\n",
       "      <td>P-5085-2018</td>\n",
       "      <td>3123</td>\n",
       "      <td>4</td>\n",
       "      <td>2018-08-10</td>\n",
       "      <td>2019-08-10</td>\n",
       "      <td>7520</td>\n",
       "      <td>1760.0</td>\n",
       "      <td>1000</td>\n",
       "      <td>110000.0</td>\n",
       "      <td>Castro</td>\n",
       "      <td>TX</td>\n",
       "      <td>2014.0</td>\n",
       "      <td>110000.0</td>\n",
       "    </tr>\n",
       "  </tbody>\n",
       "</table>\n",
       "</div>"
      ],
      "text/plain": [
       "  PolicyNumber  CustomerId  Loc PolicyEffectiveDate PolicyExpirationDate  \\\n",
       "0   P-562-2018        3833    1          2018-03-01           2019-03-01   \n",
       "1  P-5085-2018        3123    1          2018-08-10           2019-08-10   \n",
       "2  P-5085-2018        3123    2          2018-08-10           2019-08-10   \n",
       "3  P-5085-2018        3123    3          2018-08-10           2019-08-10   \n",
       "4  P-5085-2018        3123    4          2018-08-10           2019-08-10   \n",
       "\n",
       "   PolicyPremium  LocationPremium  Deductible  LocValue  County State  \\\n",
       "0            594            594.0        1000   36000.0  Furnas    NE   \n",
       "1           7520            960.0        1000   60000.0  Castro    TX   \n",
       "2           7520           1760.0        1000  110000.0  Castro    TX   \n",
       "3           7520            960.0        1000   60000.0  Castro    TX   \n",
       "4           7520           1760.0        1000  110000.0  Castro    TX   \n",
       "\n",
       "   Equip Year  Equip Value  \n",
       "0      1994.0      36000.0  \n",
       "1      1993.0      60000.0  \n",
       "2      2015.0     110000.0  \n",
       "3      1988.0      60000.0  \n",
       "4      2014.0     110000.0  "
      ]
     },
     "execution_count": 114,
     "metadata": {},
     "output_type": "execute_result"
    }
   ],
   "source": [
    "premiums_df.head(5)"
   ]
  },
  {
   "cell_type": "markdown",
   "metadata": {},
   "source": [
    "# Combining Premium and Claim Information"
   ]
  },
  {
   "cell_type": "code",
   "execution_count": 120,
   "metadata": {
    "editable": true,
    "slideshow": {
     "slide_type": ""
    },
    "tags": []
   },
   "outputs": [],
   "source": [
    "claim_specific_df = claims_df.copy()[['PolicyNumber', 'DateOfLoss', 'ClaimReceivedDate', 'ClaimCause', 'TotalPaidToDate']]"
   ]
  },
  {
   "cell_type": "markdown",
   "metadata": {},
   "source": [
    "### Check PolicyNumber data type in both fields before merging"
   ]
  },
  {
   "cell_type": "code",
   "execution_count": 124,
   "metadata": {
    "editable": true,
    "slideshow": {
     "slide_type": ""
    },
    "tags": []
   },
   "outputs": [],
   "source": [
    "premiums_df['PolicyNumber'] = premiums_df['PolicyNumber'].astype(str)\n",
    "claim_specific_df['PolicyNumber'] = claim_specific_df['PolicyNumber'].astype(str)"
   ]
  },
  {
   "cell_type": "code",
   "execution_count": 125,
   "metadata": {
    "editable": true,
    "slideshow": {
     "slide_type": ""
    },
    "tags": []
   },
   "outputs": [],
   "source": [
    "claims_premiums_df = pd.merge(premiums_df, claim_specific_df, on = 'PolicyNumber', how = 'left')"
   ]
  },
  {
   "cell_type": "code",
   "execution_count": 129,
   "metadata": {
    "editable": true,
    "slideshow": {
     "slide_type": ""
    },
    "tags": []
   },
   "outputs": [
    {
     "data": {
      "text/plain": [
       "PolicyNumber            86567\n",
       "CustomerId              86567\n",
       "Loc                     86567\n",
       "PolicyEffectiveDate     86567\n",
       "PolicyExpirationDate    86567\n",
       "PolicyPremium           86567\n",
       "LocationPremium         86567\n",
       "Deductible              86567\n",
       "LocValue                86567\n",
       "County                  86567\n",
       "State                   86567\n",
       "Equip Year              86567\n",
       "Equip Value             86567\n",
       "DateOfLoss              19771\n",
       "ClaimReceivedDate       19771\n",
       "ClaimCause              19771\n",
       "TotalPaidToDate         19771\n",
       "dtype: int64"
      ]
     },
     "execution_count": 129,
     "metadata": {},
     "output_type": "execute_result"
    }
   ],
   "source": [
    "claims_premiums_df.notna().sum()"
   ]
  },
  {
   "cell_type": "code",
   "execution_count": 130,
   "metadata": {},
   "outputs": [
    {
     "data": {
      "text/html": [
       "<div>\n",
       "<style scoped>\n",
       "    .dataframe tbody tr th:only-of-type {\n",
       "        vertical-align: middle;\n",
       "    }\n",
       "\n",
       "    .dataframe tbody tr th {\n",
       "        vertical-align: top;\n",
       "    }\n",
       "\n",
       "    .dataframe thead th {\n",
       "        text-align: right;\n",
       "    }\n",
       "</style>\n",
       "<table border=\"1\" class=\"dataframe\">\n",
       "  <thead>\n",
       "    <tr style=\"text-align: right;\">\n",
       "      <th></th>\n",
       "      <th>PolicyNumber</th>\n",
       "      <th>CustomerId</th>\n",
       "      <th>Loc</th>\n",
       "      <th>PolicyEffectiveDate</th>\n",
       "      <th>PolicyExpirationDate</th>\n",
       "      <th>PolicyPremium</th>\n",
       "      <th>LocationPremium</th>\n",
       "      <th>Deductible</th>\n",
       "      <th>LocValue</th>\n",
       "      <th>County</th>\n",
       "      <th>State</th>\n",
       "      <th>Equip Year</th>\n",
       "      <th>Equip Value</th>\n",
       "      <th>DateOfLoss</th>\n",
       "      <th>ClaimReceivedDate</th>\n",
       "      <th>ClaimCause</th>\n",
       "      <th>TotalPaidToDate</th>\n",
       "    </tr>\n",
       "  </thead>\n",
       "  <tbody>\n",
       "    <tr>\n",
       "      <th>0</th>\n",
       "      <td>P-562-2018</td>\n",
       "      <td>3833</td>\n",
       "      <td>1</td>\n",
       "      <td>2018-03-01</td>\n",
       "      <td>2019-03-01</td>\n",
       "      <td>594</td>\n",
       "      <td>594.0</td>\n",
       "      <td>1000</td>\n",
       "      <td>36000.0</td>\n",
       "      <td>Furnas</td>\n",
       "      <td>NE</td>\n",
       "      <td>1994.0</td>\n",
       "      <td>36000.0</td>\n",
       "      <td>NaN</td>\n",
       "      <td>NaN</td>\n",
       "      <td>NaN</td>\n",
       "      <td>NaN</td>\n",
       "    </tr>\n",
       "    <tr>\n",
       "      <th>1</th>\n",
       "      <td>P-5085-2018</td>\n",
       "      <td>3123</td>\n",
       "      <td>1</td>\n",
       "      <td>2018-08-10</td>\n",
       "      <td>2019-08-10</td>\n",
       "      <td>7520</td>\n",
       "      <td>960.0</td>\n",
       "      <td>1000</td>\n",
       "      <td>60000.0</td>\n",
       "      <td>Castro</td>\n",
       "      <td>TX</td>\n",
       "      <td>1993.0</td>\n",
       "      <td>60000.0</td>\n",
       "      <td>NaN</td>\n",
       "      <td>NaN</td>\n",
       "      <td>NaN</td>\n",
       "      <td>NaN</td>\n",
       "    </tr>\n",
       "    <tr>\n",
       "      <th>2</th>\n",
       "      <td>P-5085-2018</td>\n",
       "      <td>3123</td>\n",
       "      <td>2</td>\n",
       "      <td>2018-08-10</td>\n",
       "      <td>2019-08-10</td>\n",
       "      <td>7520</td>\n",
       "      <td>1760.0</td>\n",
       "      <td>1000</td>\n",
       "      <td>110000.0</td>\n",
       "      <td>Castro</td>\n",
       "      <td>TX</td>\n",
       "      <td>2015.0</td>\n",
       "      <td>110000.0</td>\n",
       "      <td>NaN</td>\n",
       "      <td>NaN</td>\n",
       "      <td>NaN</td>\n",
       "      <td>NaN</td>\n",
       "    </tr>\n",
       "    <tr>\n",
       "      <th>3</th>\n",
       "      <td>P-5085-2018</td>\n",
       "      <td>3123</td>\n",
       "      <td>3</td>\n",
       "      <td>2018-08-10</td>\n",
       "      <td>2019-08-10</td>\n",
       "      <td>7520</td>\n",
       "      <td>960.0</td>\n",
       "      <td>1000</td>\n",
       "      <td>60000.0</td>\n",
       "      <td>Castro</td>\n",
       "      <td>TX</td>\n",
       "      <td>1988.0</td>\n",
       "      <td>60000.0</td>\n",
       "      <td>NaN</td>\n",
       "      <td>NaN</td>\n",
       "      <td>NaN</td>\n",
       "      <td>NaN</td>\n",
       "    </tr>\n",
       "    <tr>\n",
       "      <th>4</th>\n",
       "      <td>P-5085-2018</td>\n",
       "      <td>3123</td>\n",
       "      <td>4</td>\n",
       "      <td>2018-08-10</td>\n",
       "      <td>2019-08-10</td>\n",
       "      <td>7520</td>\n",
       "      <td>1760.0</td>\n",
       "      <td>1000</td>\n",
       "      <td>110000.0</td>\n",
       "      <td>Castro</td>\n",
       "      <td>TX</td>\n",
       "      <td>2014.0</td>\n",
       "      <td>110000.0</td>\n",
       "      <td>NaN</td>\n",
       "      <td>NaN</td>\n",
       "      <td>NaN</td>\n",
       "      <td>NaN</td>\n",
       "    </tr>\n",
       "    <tr>\n",
       "      <th>5</th>\n",
       "      <td>P-5085-2018</td>\n",
       "      <td>3123</td>\n",
       "      <td>5</td>\n",
       "      <td>2018-08-10</td>\n",
       "      <td>2019-08-10</td>\n",
       "      <td>7520</td>\n",
       "      <td>1040.0</td>\n",
       "      <td>1000</td>\n",
       "      <td>65000.0</td>\n",
       "      <td>Castro</td>\n",
       "      <td>TX</td>\n",
       "      <td>2007.0</td>\n",
       "      <td>65000.0</td>\n",
       "      <td>NaN</td>\n",
       "      <td>NaN</td>\n",
       "      <td>NaN</td>\n",
       "      <td>NaN</td>\n",
       "    </tr>\n",
       "    <tr>\n",
       "      <th>6</th>\n",
       "      <td>P-5085-2018</td>\n",
       "      <td>3123</td>\n",
       "      <td>6</td>\n",
       "      <td>2018-08-10</td>\n",
       "      <td>2019-08-10</td>\n",
       "      <td>7520</td>\n",
       "      <td>1040.0</td>\n",
       "      <td>1000</td>\n",
       "      <td>65000.0</td>\n",
       "      <td>Castro</td>\n",
       "      <td>TX</td>\n",
       "      <td>2007.0</td>\n",
       "      <td>65000.0</td>\n",
       "      <td>NaN</td>\n",
       "      <td>NaN</td>\n",
       "      <td>NaN</td>\n",
       "      <td>NaN</td>\n",
       "    </tr>\n",
       "    <tr>\n",
       "      <th>7</th>\n",
       "      <td>P-5085-2019</td>\n",
       "      <td>3123</td>\n",
       "      <td>1</td>\n",
       "      <td>2019-08-10</td>\n",
       "      <td>2020-08-10</td>\n",
       "      <td>7520</td>\n",
       "      <td>960.0</td>\n",
       "      <td>1000</td>\n",
       "      <td>60000.0</td>\n",
       "      <td>Castro</td>\n",
       "      <td>TX</td>\n",
       "      <td>1993.0</td>\n",
       "      <td>60000.0</td>\n",
       "      <td>2019-03-13</td>\n",
       "      <td>2019-04-08</td>\n",
       "      <td>Wind-Irr</td>\n",
       "      <td>11266.51</td>\n",
       "    </tr>\n",
       "    <tr>\n",
       "      <th>8</th>\n",
       "      <td>P-5085-2019</td>\n",
       "      <td>3123</td>\n",
       "      <td>2</td>\n",
       "      <td>2019-08-10</td>\n",
       "      <td>2020-08-10</td>\n",
       "      <td>7520</td>\n",
       "      <td>1760.0</td>\n",
       "      <td>1000</td>\n",
       "      <td>110000.0</td>\n",
       "      <td>Castro</td>\n",
       "      <td>TX</td>\n",
       "      <td>2015.0</td>\n",
       "      <td>110000.0</td>\n",
       "      <td>2019-03-13</td>\n",
       "      <td>2019-04-08</td>\n",
       "      <td>Wind-Irr</td>\n",
       "      <td>11266.51</td>\n",
       "    </tr>\n",
       "    <tr>\n",
       "      <th>9</th>\n",
       "      <td>P-5085-2019</td>\n",
       "      <td>3123</td>\n",
       "      <td>3</td>\n",
       "      <td>2019-08-10</td>\n",
       "      <td>2020-08-10</td>\n",
       "      <td>7520</td>\n",
       "      <td>960.0</td>\n",
       "      <td>1000</td>\n",
       "      <td>60000.0</td>\n",
       "      <td>Castro</td>\n",
       "      <td>TX</td>\n",
       "      <td>1988.0</td>\n",
       "      <td>60000.0</td>\n",
       "      <td>2019-03-13</td>\n",
       "      <td>2019-04-08</td>\n",
       "      <td>Wind-Irr</td>\n",
       "      <td>11266.51</td>\n",
       "    </tr>\n",
       "  </tbody>\n",
       "</table>\n",
       "</div>"
      ],
      "text/plain": [
       "  PolicyNumber  CustomerId  Loc PolicyEffectiveDate PolicyExpirationDate  \\\n",
       "0   P-562-2018        3833    1          2018-03-01           2019-03-01   \n",
       "1  P-5085-2018        3123    1          2018-08-10           2019-08-10   \n",
       "2  P-5085-2018        3123    2          2018-08-10           2019-08-10   \n",
       "3  P-5085-2018        3123    3          2018-08-10           2019-08-10   \n",
       "4  P-5085-2018        3123    4          2018-08-10           2019-08-10   \n",
       "5  P-5085-2018        3123    5          2018-08-10           2019-08-10   \n",
       "6  P-5085-2018        3123    6          2018-08-10           2019-08-10   \n",
       "7  P-5085-2019        3123    1          2019-08-10           2020-08-10   \n",
       "8  P-5085-2019        3123    2          2019-08-10           2020-08-10   \n",
       "9  P-5085-2019        3123    3          2019-08-10           2020-08-10   \n",
       "\n",
       "   PolicyPremium  LocationPremium  Deductible  LocValue  County State  \\\n",
       "0            594            594.0        1000   36000.0  Furnas    NE   \n",
       "1           7520            960.0        1000   60000.0  Castro    TX   \n",
       "2           7520           1760.0        1000  110000.0  Castro    TX   \n",
       "3           7520            960.0        1000   60000.0  Castro    TX   \n",
       "4           7520           1760.0        1000  110000.0  Castro    TX   \n",
       "5           7520           1040.0        1000   65000.0  Castro    TX   \n",
       "6           7520           1040.0        1000   65000.0  Castro    TX   \n",
       "7           7520            960.0        1000   60000.0  Castro    TX   \n",
       "8           7520           1760.0        1000  110000.0  Castro    TX   \n",
       "9           7520            960.0        1000   60000.0  Castro    TX   \n",
       "\n",
       "   Equip Year  Equip Value  DateOfLoss ClaimReceivedDate ClaimCause  \\\n",
       "0      1994.0      36000.0         NaN               NaN        NaN   \n",
       "1      1993.0      60000.0         NaN               NaN        NaN   \n",
       "2      2015.0     110000.0         NaN               NaN        NaN   \n",
       "3      1988.0      60000.0         NaN               NaN        NaN   \n",
       "4      2014.0     110000.0         NaN               NaN        NaN   \n",
       "5      2007.0      65000.0         NaN               NaN        NaN   \n",
       "6      2007.0      65000.0         NaN               NaN        NaN   \n",
       "7      1993.0      60000.0  2019-03-13        2019-04-08   Wind-Irr   \n",
       "8      2015.0     110000.0  2019-03-13        2019-04-08   Wind-Irr   \n",
       "9      1988.0      60000.0  2019-03-13        2019-04-08   Wind-Irr   \n",
       "\n",
       "   TotalPaidToDate  \n",
       "0              NaN  \n",
       "1              NaN  \n",
       "2              NaN  \n",
       "3              NaN  \n",
       "4              NaN  \n",
       "5              NaN  \n",
       "6              NaN  \n",
       "7         11266.51  \n",
       "8         11266.51  \n",
       "9         11266.51  "
      ]
     },
     "execution_count": 130,
     "metadata": {},
     "output_type": "execute_result"
    }
   ],
   "source": [
    "claims_premiums_df.head(10)"
   ]
  },
  {
   "cell_type": "markdown",
   "metadata": {},
   "source": [
    "# Drop LocValue because it is the same as Equip Value"
   ]
  },
  {
   "cell_type": "code",
   "execution_count": 132,
   "metadata": {
    "editable": true,
    "slideshow": {
     "slide_type": ""
    },
    "tags": []
   },
   "outputs": [],
   "source": [
    "claims_premiums_df.drop(['LocValue'], axis = 1, inplace = True)"
   ]
  },
  {
   "cell_type": "markdown",
   "metadata": {},
   "source": [
    "# Univariate Analysis"
   ]
  },
  {
   "cell_type": "markdown",
   "metadata": {
    "editable": true,
    "slideshow": {
     "slide_type": ""
    },
    "tags": []
   },
   "source": [
    "### Continuous Features: PolicyPremium, LocationPremium, Equip Value, TotalPaidToDate"
   ]
  },
  {
   "cell_type": "markdown",
   "metadata": {},
   "source": [
    "#### PolicyPremium"
   ]
  },
  {
   "cell_type": "code",
   "execution_count": 138,
   "metadata": {},
   "outputs": [
    {
     "data": {
      "image/png": "[encoded data removed]",
      "text/plain": [
       "<Figure size 2000x300 with 1 Axes>"
      ]
     },
     "metadata": {},
     "output_type": "display_data"
    }
   ],
   "source": [
    "plt.figure(figsize=(20, 3))\n",
    "\n",
    "sns.set(style = 'whitegrid', font_scale = 1.2)\n",
    "sns.kdeplot(data = claims_premiums_df['PolicyPremium'], color = 'b', fill = True)\n",
    "\n",
    "plt.xlabel('PolicyPremium')\n",
    "plt.ylabel('Density')\n",
    "plt.title('Distribution of PolicyPremium')\n",
    "\n",
    "mean = claims_premiums_df['PolicyPremium'].mean()\n",
    "plt.axvline(mean, color='r', linestyle='--', label='Mean')\n",
    "plt.legend()\n",
    "\n",
    "plt.show()"
   ]
  },
  {
   "cell_type": "code",
   "execution_count": 139,
   "metadata": {
    "editable": true,
    "slideshow": {
     "slide_type": ""
    },
    "tags": []
   },
   "outputs": [
    {
     "data": {
      "image/png": "[encoded data removed]",
      "text/plain": [
       "<Figure size 2000x300 with 1 Axes>"
      ]
     },
     "metadata": {},
     "output_type": "display_data"
    }
   ],
   "source": [
    "plt.figure(figsize=(20, 3))\n",
    "\n",
    "sns.set(style = 'whitegrid', font_scale = 1.2)\n",
    "ax = sns.kdeplot(data = claims_premiums_df['PolicyPremium'], color = 'b', fill = True)\n",
    "\n",
    "ax.set_xlim([0, 50000])\n",
    "\n",
    "plt.xlabel('PolicyPremium')\n",
    "plt.ylabel('Density')\n",
    "plt.title('Distribution of PolicyPremium')\n",
    "\n",
    "mean = claims_premiums_df['PolicyPremium'].mean()\n",
    "plt.axvline(mean, color='r', linestyle='--', label='Mean')\n",
    "plt.legend()\n",
    "\n",
    "plt.show()"
   ]
  },
  {
   "cell_type": "markdown",
   "metadata": {
    "editable": true,
    "slideshow": {
     "slide_type": ""
    },
    "tags": []
   },
   "source": [
    "#### **Discussion**: The PolicyPremium field is a right-skewed (positive skew) distribution."
   ]
  },
  {
   "cell_type": "code",
   "execution_count": null,
   "metadata": {},
   "outputs": [],
   "source": []
  }
 ],
 "metadata": {
  "kernelspec": {
   "display_name": "Python 3 (ipykernel)",
   "language": "python",
   "name": "python3"
  },
  "language_info": {
   "codemirror_mode": {
    "name": "ipython",
    "version": 3
   },
   "file_extension": ".py",
   "mimetype": "text/x-python",
   "name": "python",
   "nbconvert_exporter": "python",
   "pygments_lexer": "ipython3",
   "version": "3.9.2"
  }
 },
 "nbformat": 4,
 "nbformat_minor": 4
}
