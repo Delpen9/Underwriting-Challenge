{
 "cells": [
  {
   "cell_type": "code",
   "execution_count": 1,
   "id": "c1e512aa-cd6e-42b2-91d3-7e863b089c8c",
   "metadata": {
    "editable": true,
    "slideshow": {
     "slide_type": ""
    },
    "tags": []
   },
   "outputs": [],
   "source": [
    "# Generic Libraries\n",
    "import numpy as np\n",
    "import pandas as pd\n",
    "import seaborn as sns\n",
    "import matplotlib.pyplot as plt"
   ]
  },
  {
   "cell_type": "code",
   "execution_count": 2,
   "id": "47447147-be69-4c7d-abd0-b2da3449cc1c",
   "metadata": {
    "editable": true,
    "slideshow": {
     "slide_type": ""
    },
    "tags": []
   },
   "outputs": [],
   "source": [
    "claims_data = '../data/claims.csv'\n",
    "premiums_data = '../data/premiums.csv'"
   ]
  },
  {
   "cell_type": "code",
   "execution_count": 3,
   "id": "b03d650c-bfa8-48d4-ac5a-e29f4aec689f",
   "metadata": {
    "editable": true,
    "slideshow": {
     "slide_type": ""
    },
    "tags": []
   },
   "outputs": [],
   "source": [
    "claims_df = pd.read_csv(claims_data)\n",
    "premiums_df = pd.read_csv(premiums_data)"
   ]
  },
  {
   "cell_type": "code",
   "execution_count": 4,
   "id": "04ce5f07-7766-4714-9fc1-365bd0f77161",
   "metadata": {
    "editable": true,
    "slideshow": {
     "slide_type": ""
    },
    "tags": []
   },
   "outputs": [],
   "source": [
    "claims_df = claims_df[~claims_df['ClaimCause'].isin(['Claim Denied', 'Claim Withdrawn'])]"
   ]
  },
  {
   "cell_type": "code",
   "execution_count": 5,
   "id": "f978ec5b-2a8c-4aea-8fec-b28b9fbb5392",
   "metadata": {
    "editable": true,
    "slideshow": {
     "slide_type": ""
    },
    "tags": []
   },
   "outputs": [],
   "source": [
    "claims_df = claims_df.dropna()"
   ]
  },
  {
   "cell_type": "code",
   "execution_count": 6,
   "id": "bc41ed95-1586-4db8-9bf5-77221554b6ac",
   "metadata": {
    "editable": true,
    "slideshow": {
     "slide_type": ""
    },
    "tags": []
   },
   "outputs": [],
   "source": [
    "premiums_df = premiums_df.dropna()"
   ]
  },
  {
   "cell_type": "code",
   "execution_count": 7,
   "id": "779e46e6-9ebe-4b92-b272-7a105a8ac765",
   "metadata": {
    "editable": true,
    "slideshow": {
     "slide_type": ""
    },
    "tags": []
   },
   "outputs": [],
   "source": [
    "claim_specific_df = claims_df.copy()[['PolicyNumber', 'DateOfLoss', 'ClaimReceivedDate', 'ClaimCause', 'TotalPaidToDate']]"
   ]
  },
  {
   "cell_type": "code",
   "execution_count": 8,
   "id": "4ff4b9f4-1b34-4721-bf00-554ba2a84c2c",
   "metadata": {
    "editable": true,
    "slideshow": {
     "slide_type": ""
    },
    "tags": []
   },
   "outputs": [],
   "source": [
    "premiums_df['PolicyNumber'] = premiums_df['PolicyNumber'].astype(str)\n",
    "claim_specific_df['PolicyNumber'] = claim_specific_df['PolicyNumber'].astype(str)"
   ]
  },
  {
   "cell_type": "code",
   "execution_count": 9,
   "id": "14a338b5-fca1-46bc-b435-42f7f90ea0a3",
   "metadata": {
    "editable": true,
    "slideshow": {
     "slide_type": ""
    },
    "tags": []
   },
   "outputs": [],
   "source": [
    "claims_premiums_df = pd.merge(premiums_df, claim_specific_df, on = 'PolicyNumber', how = 'left')"
   ]
  },
  {
   "cell_type": "code",
   "execution_count": 10,
   "id": "87ac11de-3b5a-467f-b5ff-57cdaa213676",
   "metadata": {
    "editable": true,
    "slideshow": {
     "slide_type": ""
    },
    "tags": []
   },
   "outputs": [
    {
     "data": {
      "text/html": [
       "<div>\n",
       "<style scoped>\n",
       "    .dataframe tbody tr th:only-of-type {\n",
       "        vertical-align: middle;\n",
       "    }\n",
       "\n",
       "    .dataframe tbody tr th {\n",
       "        vertical-align: top;\n",
       "    }\n",
       "\n",
       "    .dataframe thead th {\n",
       "        text-align: right;\n",
       "    }\n",
       "</style>\n",
       "<table border=\"1\" class=\"dataframe\">\n",
       "  <thead>\n",
       "    <tr style=\"text-align: right;\">\n",
       "      <th></th>\n",
       "      <th>PolicyNumber</th>\n",
       "      <th>CustomerId</th>\n",
       "      <th>Loc</th>\n",
       "      <th>PolicyEffectiveDate</th>\n",
       "      <th>PolicyExpirationDate</th>\n",
       "      <th>PolicyPremium</th>\n",
       "      <th>LocationPremium</th>\n",
       "      <th>Deductible</th>\n",
       "      <th>LocValue</th>\n",
       "      <th>County</th>\n",
       "      <th>State</th>\n",
       "      <th>Equip Year</th>\n",
       "      <th>Equip Value</th>\n",
       "      <th>DateOfLoss</th>\n",
       "      <th>ClaimReceivedDate</th>\n",
       "      <th>ClaimCause</th>\n",
       "      <th>TotalPaidToDate</th>\n",
       "    </tr>\n",
       "  </thead>\n",
       "  <tbody>\n",
       "    <tr>\n",
       "      <th>0</th>\n",
       "      <td>P-562-2018</td>\n",
       "      <td>3833</td>\n",
       "      <td>1</td>\n",
       "      <td>2018-03-01</td>\n",
       "      <td>2019-03-01</td>\n",
       "      <td>594</td>\n",
       "      <td>594.000000</td>\n",
       "      <td>1000</td>\n",
       "      <td>36000.0</td>\n",
       "      <td>Furnas</td>\n",
       "      <td>NE</td>\n",
       "      <td>1994.0</td>\n",
       "      <td>36000.0</td>\n",
       "      <td>NaN</td>\n",
       "      <td>NaN</td>\n",
       "      <td>NaN</td>\n",
       "      <td>NaN</td>\n",
       "    </tr>\n",
       "    <tr>\n",
       "      <th>1</th>\n",
       "      <td>P-5085-2018</td>\n",
       "      <td>3123</td>\n",
       "      <td>1</td>\n",
       "      <td>2018-08-10</td>\n",
       "      <td>2019-08-10</td>\n",
       "      <td>7520</td>\n",
       "      <td>960.000000</td>\n",
       "      <td>1000</td>\n",
       "      <td>60000.0</td>\n",
       "      <td>Castro</td>\n",
       "      <td>TX</td>\n",
       "      <td>1993.0</td>\n",
       "      <td>60000.0</td>\n",
       "      <td>NaN</td>\n",
       "      <td>NaN</td>\n",
       "      <td>NaN</td>\n",
       "      <td>NaN</td>\n",
       "    </tr>\n",
       "    <tr>\n",
       "      <th>2</th>\n",
       "      <td>P-5085-2018</td>\n",
       "      <td>3123</td>\n",
       "      <td>2</td>\n",
       "      <td>2018-08-10</td>\n",
       "      <td>2019-08-10</td>\n",
       "      <td>7520</td>\n",
       "      <td>1760.000000</td>\n",
       "      <td>1000</td>\n",
       "      <td>110000.0</td>\n",
       "      <td>Castro</td>\n",
       "      <td>TX</td>\n",
       "      <td>2015.0</td>\n",
       "      <td>110000.0</td>\n",
       "      <td>NaN</td>\n",
       "      <td>NaN</td>\n",
       "      <td>NaN</td>\n",
       "      <td>NaN</td>\n",
       "    </tr>\n",
       "    <tr>\n",
       "      <th>3</th>\n",
       "      <td>P-5085-2018</td>\n",
       "      <td>3123</td>\n",
       "      <td>3</td>\n",
       "      <td>2018-08-10</td>\n",
       "      <td>2019-08-10</td>\n",
       "      <td>7520</td>\n",
       "      <td>960.000000</td>\n",
       "      <td>1000</td>\n",
       "      <td>60000.0</td>\n",
       "      <td>Castro</td>\n",
       "      <td>TX</td>\n",
       "      <td>1988.0</td>\n",
       "      <td>60000.0</td>\n",
       "      <td>NaN</td>\n",
       "      <td>NaN</td>\n",
       "      <td>NaN</td>\n",
       "      <td>NaN</td>\n",
       "    </tr>\n",
       "    <tr>\n",
       "      <th>4</th>\n",
       "      <td>P-5085-2018</td>\n",
       "      <td>3123</td>\n",
       "      <td>4</td>\n",
       "      <td>2018-08-10</td>\n",
       "      <td>2019-08-10</td>\n",
       "      <td>7520</td>\n",
       "      <td>1760.000000</td>\n",
       "      <td>1000</td>\n",
       "      <td>110000.0</td>\n",
       "      <td>Castro</td>\n",
       "      <td>TX</td>\n",
       "      <td>2014.0</td>\n",
       "      <td>110000.0</td>\n",
       "      <td>NaN</td>\n",
       "      <td>NaN</td>\n",
       "      <td>NaN</td>\n",
       "      <td>NaN</td>\n",
       "    </tr>\n",
       "    <tr>\n",
       "      <th>...</th>\n",
       "      <td>...</td>\n",
       "      <td>...</td>\n",
       "      <td>...</td>\n",
       "      <td>...</td>\n",
       "      <td>...</td>\n",
       "      <td>...</td>\n",
       "      <td>...</td>\n",
       "      <td>...</td>\n",
       "      <td>...</td>\n",
       "      <td>...</td>\n",
       "      <td>...</td>\n",
       "      <td>...</td>\n",
       "      <td>...</td>\n",
       "      <td>...</td>\n",
       "      <td>...</td>\n",
       "      <td>...</td>\n",
       "      <td>...</td>\n",
       "    </tr>\n",
       "    <tr>\n",
       "      <th>86562</th>\n",
       "      <td>P-2915-2023</td>\n",
       "      <td>1160</td>\n",
       "      <td>2</td>\n",
       "      <td>2023-03-16</td>\n",
       "      <td>2024-03-16</td>\n",
       "      <td>13268</td>\n",
       "      <td>2080.564831</td>\n",
       "      <td>1000</td>\n",
       "      <td>85000.0</td>\n",
       "      <td>Antelope</td>\n",
       "      <td>NE</td>\n",
       "      <td>2008.0</td>\n",
       "      <td>85000.0</td>\n",
       "      <td>NaN</td>\n",
       "      <td>NaN</td>\n",
       "      <td>NaN</td>\n",
       "      <td>NaN</td>\n",
       "    </tr>\n",
       "    <tr>\n",
       "      <th>86563</th>\n",
       "      <td>P-2915-2023</td>\n",
       "      <td>1160</td>\n",
       "      <td>3</td>\n",
       "      <td>2023-03-16</td>\n",
       "      <td>2024-03-16</td>\n",
       "      <td>13268</td>\n",
       "      <td>2203.742550</td>\n",
       "      <td>1000</td>\n",
       "      <td>90000.0</td>\n",
       "      <td>Antelope</td>\n",
       "      <td>NE</td>\n",
       "      <td>1991.0</td>\n",
       "      <td>90000.0</td>\n",
       "      <td>NaN</td>\n",
       "      <td>NaN</td>\n",
       "      <td>NaN</td>\n",
       "      <td>NaN</td>\n",
       "    </tr>\n",
       "    <tr>\n",
       "      <th>86564</th>\n",
       "      <td>P-2915-2023</td>\n",
       "      <td>1160</td>\n",
       "      <td>4</td>\n",
       "      <td>2023-03-16</td>\n",
       "      <td>2024-03-16</td>\n",
       "      <td>13268</td>\n",
       "      <td>2203.742550</td>\n",
       "      <td>1000</td>\n",
       "      <td>90000.0</td>\n",
       "      <td>Antelope</td>\n",
       "      <td>NE</td>\n",
       "      <td>1992.0</td>\n",
       "      <td>90000.0</td>\n",
       "      <td>NaN</td>\n",
       "      <td>NaN</td>\n",
       "      <td>NaN</td>\n",
       "      <td>NaN</td>\n",
       "    </tr>\n",
       "    <tr>\n",
       "      <th>86565</th>\n",
       "      <td>P-2915-2023</td>\n",
       "      <td>1160</td>\n",
       "      <td>5</td>\n",
       "      <td>2023-03-16</td>\n",
       "      <td>2024-03-16</td>\n",
       "      <td>13268</td>\n",
       "      <td>2349.692620</td>\n",
       "      <td>1000</td>\n",
       "      <td>96000.0</td>\n",
       "      <td>Antelope</td>\n",
       "      <td>NE</td>\n",
       "      <td>2013.0</td>\n",
       "      <td>96000.0</td>\n",
       "      <td>NaN</td>\n",
       "      <td>NaN</td>\n",
       "      <td>NaN</td>\n",
       "      <td>NaN</td>\n",
       "    </tr>\n",
       "    <tr>\n",
       "      <th>86566</th>\n",
       "      <td>P-2915-2023</td>\n",
       "      <td>1160</td>\n",
       "      <td>6</td>\n",
       "      <td>2023-03-16</td>\n",
       "      <td>2024-03-16</td>\n",
       "      <td>13268</td>\n",
       "      <td>2349.692620</td>\n",
       "      <td>1000</td>\n",
       "      <td>96000.0</td>\n",
       "      <td>Antelope</td>\n",
       "      <td>NE</td>\n",
       "      <td>2022.0</td>\n",
       "      <td>96000.0</td>\n",
       "      <td>NaN</td>\n",
       "      <td>NaN</td>\n",
       "      <td>NaN</td>\n",
       "      <td>NaN</td>\n",
       "    </tr>\n",
       "  </tbody>\n",
       "</table>\n",
       "<p>86567 rows × 17 columns</p>\n",
       "</div>"
      ],
      "text/plain": [
       "      PolicyNumber  CustomerId  Loc PolicyEffectiveDate PolicyExpirationDate  \\\n",
       "0       P-562-2018        3833    1          2018-03-01           2019-03-01   \n",
       "1      P-5085-2018        3123    1          2018-08-10           2019-08-10   \n",
       "2      P-5085-2018        3123    2          2018-08-10           2019-08-10   \n",
       "3      P-5085-2018        3123    3          2018-08-10           2019-08-10   \n",
       "4      P-5085-2018        3123    4          2018-08-10           2019-08-10   \n",
       "...            ...         ...  ...                 ...                  ...   \n",
       "86562  P-2915-2023        1160    2          2023-03-16           2024-03-16   \n",
       "86563  P-2915-2023        1160    3          2023-03-16           2024-03-16   \n",
       "86564  P-2915-2023        1160    4          2023-03-16           2024-03-16   \n",
       "86565  P-2915-2023        1160    5          2023-03-16           2024-03-16   \n",
       "86566  P-2915-2023        1160    6          2023-03-16           2024-03-16   \n",
       "\n",
       "       PolicyPremium  LocationPremium  Deductible  LocValue    County State  \\\n",
       "0                594       594.000000        1000   36000.0    Furnas    NE   \n",
       "1               7520       960.000000        1000   60000.0    Castro    TX   \n",
       "2               7520      1760.000000        1000  110000.0    Castro    TX   \n",
       "3               7520       960.000000        1000   60000.0    Castro    TX   \n",
       "4               7520      1760.000000        1000  110000.0    Castro    TX   \n",
       "...              ...              ...         ...       ...       ...   ...   \n",
       "86562          13268      2080.564831        1000   85000.0  Antelope    NE   \n",
       "86563          13268      2203.742550        1000   90000.0  Antelope    NE   \n",
       "86564          13268      2203.742550        1000   90000.0  Antelope    NE   \n",
       "86565          13268      2349.692620        1000   96000.0  Antelope    NE   \n",
       "86566          13268      2349.692620        1000   96000.0  Antelope    NE   \n",
       "\n",
       "       Equip Year  Equip Value DateOfLoss ClaimReceivedDate ClaimCause  \\\n",
       "0          1994.0      36000.0        NaN               NaN        NaN   \n",
       "1          1993.0      60000.0        NaN               NaN        NaN   \n",
       "2          2015.0     110000.0        NaN               NaN        NaN   \n",
       "3          1988.0      60000.0        NaN               NaN        NaN   \n",
       "4          2014.0     110000.0        NaN               NaN        NaN   \n",
       "...           ...          ...        ...               ...        ...   \n",
       "86562      2008.0      85000.0        NaN               NaN        NaN   \n",
       "86563      1991.0      90000.0        NaN               NaN        NaN   \n",
       "86564      1992.0      90000.0        NaN               NaN        NaN   \n",
       "86565      2013.0      96000.0        NaN               NaN        NaN   \n",
       "86566      2022.0      96000.0        NaN               NaN        NaN   \n",
       "\n",
       "       TotalPaidToDate  \n",
       "0                  NaN  \n",
       "1                  NaN  \n",
       "2                  NaN  \n",
       "3                  NaN  \n",
       "4                  NaN  \n",
       "...                ...  \n",
       "86562              NaN  \n",
       "86563              NaN  \n",
       "86564              NaN  \n",
       "86565              NaN  \n",
       "86566              NaN  \n",
       "\n",
       "[86567 rows x 17 columns]"
      ]
     },
     "execution_count": 10,
     "metadata": {},
     "output_type": "execute_result"
    }
   ],
   "source": [
    "claims_premiums_df"
   ]
  },
  {
   "cell_type": "code",
   "execution_count": null,
   "id": "d9012db6-d337-4657-af4d-e8bbff8a5472",
   "metadata": {},
   "outputs": [],
   "source": []
  }
 ],
 "metadata": {
  "kernelspec": {
   "display_name": "Python 3 (ipykernel)",
   "language": "python",
   "name": "python3"
  },
  "language_info": {
   "codemirror_mode": {
    "name": "ipython",
    "version": 3
   },
   "file_extension": ".py",
   "mimetype": "text/x-python",
   "name": "python",
   "nbconvert_exporter": "python",
   "pygments_lexer": "ipython3",
   "version": "3.9.2"
  }
 },
 "nbformat": 4,
 "nbformat_minor": 5
}
