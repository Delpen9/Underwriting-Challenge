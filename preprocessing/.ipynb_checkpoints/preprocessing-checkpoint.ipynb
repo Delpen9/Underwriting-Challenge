{
 "cells": [
  {
   "cell_type": "code",
   "execution_count": null,
   "id": "c1e512aa-cd6e-42b2-91d3-7e863b089c8c",
   "metadata": {},
   "outputs": [],
   "source": []
  }
 ],
 "metadata": {
  "kernelspec": {
   "display_name": "Python 3 (ipykernel)",
   "language": "python",
   "name": "python3"
  },
  "language_info": {
   "codemirror_mode": {
    "name": "ipython",
    "version": 3
   },
   "file_extension": ".py",
   "mimetype": "text/x-python",
   "name": "python",
   "nbconvert_exporter": "python",
   "pygments_lexer": "ipython3",
   "version": "3.9.2"
  }
 },
 "nbformat": 4,
 "nbformat_minor": 5
}
