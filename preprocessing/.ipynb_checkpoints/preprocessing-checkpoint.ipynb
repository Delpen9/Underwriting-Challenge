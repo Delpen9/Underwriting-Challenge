{
 "cells": [
  {
   "cell_type": "code",
   "execution_count": 1,
   "id": "c1e512aa-cd6e-42b2-91d3-7e863b089c8c",
   "metadata": {
    "editable": true,
    "slideshow": {
     "slide_type": ""
    },
    "tags": []
   },
   "outputs": [],
   "source": [
    "# Generic Libraries\n",
    "import numpy as np\n",
    "import pandas as pd\n",
    "import seaborn as sns\n",
    "import matplotlib.pyplot as plt"
   ]
  },
  {
   "cell_type": "code",
   "execution_count": 2,
   "id": "47447147-be69-4c7d-abd0-b2da3449cc1c",
   "metadata": {
    "editable": true,
    "slideshow": {
     "slide_type": ""
    },
    "tags": []
   },
   "outputs": [],
   "source": [
    "claims_data = '../data/claims.csv'\n",
    "premiums_data = '../data/premiums.csv'"
   ]
  },
  {
   "cell_type": "code",
   "execution_count": 3,
   "id": "b03d650c-bfa8-48d4-ac5a-e29f4aec689f",
   "metadata": {
    "editable": true,
    "slideshow": {
     "slide_type": ""
    },
    "tags": []
   },
   "outputs": [],
   "source": [
    "claims_df = pd.read_csv(claims_data)\n",
    "premiums_df = pd.read_csv(premiums_data)"
   ]
  },
  {
   "cell_type": "code",
   "execution_count": 4,
   "id": "04ce5f07-7766-4714-9fc1-365bd0f77161",
   "metadata": {
    "editable": true,
    "slideshow": {
     "slide_type": ""
    },
    "tags": []
   },
   "outputs": [],
   "source": [
    "claims_df = claims_df[~claims_df['ClaimCause'].isin(['Claim Denied', 'Claim Withdrawn'])]"
   ]
  },
  {
   "cell_type": "code",
   "execution_count": 5,
   "id": "f978ec5b-2a8c-4aea-8fec-b28b9fbb5392",
   "metadata": {
    "editable": true,
    "slideshow": {
     "slide_type": ""
    },
    "tags": []
   },
   "outputs": [],
   "source": [
    "claims_df = claims_df.dropna()\n",
    "\n",
    "claims_df['DateOfLoss'] = pd.to_datetime(claims_df['DateOfLoss'])\n",
    "claims_df['ClaimReceivedDate'] = pd.to_datetime(claims_df['ClaimReceivedDate'])\n",
    "claims_df['PolicyEffectiveDate'] = pd.to_datetime(claims_df['PolicyEffectiveDate'])\n",
    "\n",
    "claims_df = claims_df.astype({\n",
    "    'PolicyNumber': 'string',\n",
    "    'ClaimCause': 'string',\n",
    "    'County': 'string',\n",
    "    'State': 'string'\n",
    "})"
   ]
  },
  {
   "cell_type": "code",
   "execution_count": 6,
   "id": "bc41ed95-1586-4db8-9bf5-77221554b6ac",
   "metadata": {
    "editable": true,
    "slideshow": {
     "slide_type": ""
    },
    "tags": []
   },
   "outputs": [],
   "source": [
    "premiums_df = premiums_df.dropna()\n",
    "\n",
    "premiums_df['PolicyEffectiveDate'] = pd.to_datetime(premiums_df['PolicyEffectiveDate'])\n",
    "premiums_df['PolicyExpirationDate'] = pd.to_datetime(premiums_df['PolicyExpirationDate'])\n",
    "\n",
    "premiums_df = premiums_df.astype({\n",
    "    'PolicyNumber': 'string',\n",
    "    'County': 'string',\n",
    "    'State': 'string'\n",
    "})"
   ]
  },
  {
   "cell_type": "code",
   "execution_count": null,
   "id": "dd4487d3-d695-431a-b520-f16732c30242",
   "metadata": {},
   "outputs": [],
   "source": [
    "premiums_df = premiums_df.drop_duplicates()"
   ]
  },
  {
   "cell_type": "code",
   "execution_count": 8,
   "id": "d9012db6-d337-4657-af4d-e8bbff8a5472",
   "metadata": {
    "editable": true,
    "slideshow": {
     "slide_type": ""
    },
    "tags": []
   },
   "outputs": [],
   "source": [
    "from datetime import datetime\n",
    "\n",
    "def impute_zero_for_year(\n",
    "    value : float\n",
    ") -> float:\n",
    "    current_year = datetime.now().year\n",
    "    if 1950.0 <= value <= current_year:\n",
    "        return value\n",
    "    else:\n",
    "        return 0.0"
   ]
  },
  {
   "cell_type": "code",
   "execution_count": 9,
   "id": "022a5fcd-1862-4e78-bc8f-c3d6f9a5aef5",
   "metadata": {},
   "outputs": [],
   "source": [
    "premiums_df['Equip Year'] = premiums_df['Equip Year'].apply(impute_zero_for_year)"
   ]
  }
 ],
 "metadata": {
  "kernelspec": {
   "display_name": "Python 3 (ipykernel)",
   "language": "python",
   "name": "python3"
  },
  "language_info": {
   "codemirror_mode": {
    "name": "ipython",
    "version": 3
   },
   "file_extension": ".py",
   "mimetype": "text/x-python",
   "name": "python",
   "nbconvert_exporter": "python",
   "pygments_lexer": "ipython3",
   "version": "3.9.2"
  }
 },
 "nbformat": 4,
 "nbformat_minor": 5
}
